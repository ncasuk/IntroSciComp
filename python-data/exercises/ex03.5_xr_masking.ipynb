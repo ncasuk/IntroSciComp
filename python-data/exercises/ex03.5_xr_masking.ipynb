{
 "cells": [
  {
   "cell_type": "markdown",
   "id": "3058f71b-e62e-4301-ab43-d93a996e7cd1",
   "metadata": {
    "editable": true,
    "slideshow": {
     "slide_type": ""
    },
    "tags": []
   },
   "source": [
    "## Masking"
   ]
  },
  {
   "cell_type": "markdown",
   "id": "372af117-a045-4830-b91f-9124107cff6e",
   "metadata": {
    "editable": true,
    "slideshow": {
     "slide_type": ""
    },
    "tags": []
   },
   "source": [
    "1. For masking, we're back to using our ocean dataset. Load it now."
   ]
  },
  {
   "cell_type": "code",
   "execution_count": 1,
   "id": "5bbad328-b6fe-4d9e-aacd-d5d2bcaac2c3",
   "metadata": {
    "editable": true,
    "execution": {
     "iopub.execute_input": "2024-11-08T11:39:21.785805Z",
     "iopub.status.busy": "2024-11-08T11:39:21.785413Z",
     "iopub.status.idle": "2024-11-08T11:39:30.005461Z",
     "shell.execute_reply": "2024-11-08T11:39:30.004655Z"
    },
    "slideshow": {
     "slide_type": ""
    },
    "tags": [
     "clear_answer_cell"
    ]
   },
   "outputs": [],
   "source": []
  },
  {
   "cell_type": "markdown",
   "id": "36531d5e-1969-46cd-a093-a0f1d538827e",
   "metadata": {
    "editable": true,
    "slideshow": {
     "slide_type": ""
    },
    "tags": []
   },
   "source": [
    "2. Determine which grid cells sea surface temperaturevis more than the mean."
   ]
  },
  {
   "cell_type": "code",
   "execution_count": 2,
   "id": "b6358593-814b-4574-9dd1-a44c4c4cec9c",
   "metadata": {
    "editable": true,
    "execution": {
     "iopub.execute_input": "2024-11-08T11:39:30.008625Z",
     "iopub.status.busy": "2024-11-08T11:39:30.008132Z",
     "iopub.status.idle": "2024-11-08T11:39:30.433972Z",
     "shell.execute_reply": "2024-11-08T11:39:30.433345Z"
    },
    "slideshow": {
     "slide_type": ""
    },
    "tags": [
     "clear_answer_cell"
    ]
   },
   "outputs": [],
   "source": []
  },
  {
   "cell_type": "markdown",
   "id": "9bc58a98-fb38-4703-a313-5263c0773183",
   "metadata": {
    "editable": true,
    "slideshow": {
     "slide_type": ""
    },
    "tags": []
   },
   "source": [
    "3. Combine this with another .where() lookup to show only cells where the temperature is more than the mean and salinity is more than the mean."
   ]
  },
  {
   "cell_type": "code",
   "execution_count": 3,
   "id": "d8fb7ec8-b129-443a-b469-95a61ff1c5db",
   "metadata": {
    "editable": true,
    "execution": {
     "iopub.execute_input": "2024-11-08T11:39:30.436664Z",
     "iopub.status.busy": "2024-11-08T11:39:30.436368Z",
     "iopub.status.idle": "2024-11-08T11:39:30.933648Z",
     "shell.execute_reply": "2024-11-08T11:39:30.933005Z"
    },
    "slideshow": {
     "slide_type": ""
    },
    "tags": [
     "clear_answer_cell"
    ]
   },
   "outputs": [],
   "source": []
  },
  {
   "cell_type": "markdown",
   "id": "b3322279-7489-43b2-b9e8-dc41093c34a6",
   "metadata": {
    "editable": true,
    "slideshow": {
     "slide_type": ""
    },
    "tags": []
   },
   "source": [
    "4. Masks are just boolean arrays. Create a re-usuable mask for the temperature and sst criteia above, and a combined one."
   ]
  },
  {
   "cell_type": "code",
   "execution_count": 4,
   "id": "61e20222-b105-4438-8ba2-c54bd9aa1d54",
   "metadata": {
    "editable": true,
    "execution": {
     "iopub.execute_input": "2024-11-08T11:39:30.937339Z",
     "iopub.status.busy": "2024-11-08T11:39:30.936483Z",
     "iopub.status.idle": "2024-11-08T11:39:30.945860Z",
     "shell.execute_reply": "2024-11-08T11:39:30.945215Z"
    },
    "slideshow": {
     "slide_type": ""
    },
    "tags": [
     "clear_answer_cell"
    ]
   },
   "outputs": [],
   "source": []
  },
  {
   "cell_type": "markdown",
   "id": "aa4f780b-b22a-48bf-b165-7bedd9a4c011",
   "metadata": {
    "editable": true,
    "slideshow": {
     "slide_type": ""
    },
    "tags": []
   },
   "source": [
    "5. Use this mask to make the same temperature plot, and a similar one for sst."
   ]
  },
  {
   "cell_type": "code",
   "execution_count": 5,
   "id": "850cffc7-f47e-432d-a0cd-25f40370f5cd",
   "metadata": {
    "editable": true,
    "execution": {
     "iopub.execute_input": "2024-11-08T11:39:30.948343Z",
     "iopub.status.busy": "2024-11-08T11:39:30.948034Z",
     "iopub.status.idle": "2024-11-08T11:39:31.346826Z",
     "shell.execute_reply": "2024-11-08T11:39:31.346137Z"
    },
    "slideshow": {
     "slide_type": ""
    },
    "tags": [
     "clear_answer_cell"
    ]
   },
   "outputs": [],
   "source": []
  },
  {
   "cell_type": "code",
   "execution_count": 6,
   "id": "1c55bd58-b6aa-4fc0-b621-a6eda906e862",
   "metadata": {
    "editable": true,
    "execution": {
     "iopub.execute_input": "2024-11-08T11:39:31.349288Z",
     "iopub.status.busy": "2024-11-08T11:39:31.348998Z",
     "iopub.status.idle": "2024-11-08T11:39:31.711256Z",
     "shell.execute_reply": "2024-11-08T11:39:31.710627Z"
    },
    "slideshow": {
     "slide_type": ""
    },
    "tags": [
     "clear_answer_cell"
    ]
   },
   "outputs": [],
   "source": []
  },
  {
   "cell_type": "code",
   "execution_count": null,
   "id": "828b8091-20dc-4333-b86d-bc88cbc5a9bb",
   "metadata": {
    "editable": true,
    "slideshow": {
     "slide_type": ""
    },
    "tags": []
   },
   "outputs": [],
   "source": []
  }
 ],
 "metadata": {
  "kernelspec": {
   "display_name": "Python 3 + Jaspy",
   "language": "python",
   "name": "jaspy"
  },
  "language_info": {
   "codemirror_mode": {
    "name": "ipython",
    "version": 3
   },
   "file_extension": ".py",
   "mimetype": "text/x-python",
   "name": "python",
   "nbconvert_exporter": "python",
   "pygments_lexer": "ipython3",
   "version": "3.11.9"
  }
 },
 "nbformat": 4,
 "nbformat_minor": 5
}
