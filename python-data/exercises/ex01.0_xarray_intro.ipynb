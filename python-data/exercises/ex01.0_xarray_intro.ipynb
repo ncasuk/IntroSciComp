{
 "cells": [
  {
   "cell_type": "markdown",
   "id": "2713343a-c0f0-4da3-979f-bb0d9f8a5e4a",
   "metadata": {},
   "source": [
    "# Exercise 1: Introduction to xarray\n"
   ]
  },
  {
   "cell_type": "markdown",
   "id": "bbe08d6c-c85d-4798-9343-b3e958cf39d4",
   "metadata": {},
   "source": [
    "## Aim: Learn about what xarray is and how to create and look at a `DataArray`."
   ]
  },
  {
   "cell_type": "markdown",
   "id": "f98aa85b-8e65-4894-9b61-13acdb9938dc",
   "metadata": {},
   "source": [
    "### Issues Covered:\n",
    "- Importing `xarray`\n",
    "- Loading a dataset using `xr.open_dataset()`\n",
    "- Creating a `DataArray`\n",
    "- Indexing, using `.loc()`, `.isel()` and `.sel()`"
   ]
  },
  {
   "cell_type": "markdown",
   "id": "adb09498-99fc-4174-8661-4b29858975d3",
   "metadata": {},
   "source": [
    "## 1. Introduction to multidimensional arrays"
   ]
  },
  {
   "cell_type": "markdown",
   "id": "308be498-f527-4886-b5a8-474e43e7a1f9",
   "metadata": {},
   "source": [
    "- Unlabelled N dimensional arrays of numbers are the most widely used data structure in scientific computing\n",
    "- These arrays lack meaningful metadata so users must track indices in an arbitrary fashion"
   ]
  },
  {
   "cell_type": "markdown",
   "id": "3d4d8868-a7d4-4651-a07a-ec10104f34b2",
   "metadata": {},
   "source": [
    "<img src=\"../images/multidimensional_array.png\" width=\"800\"/>"
   ]
  },
  {
   "cell_type": "markdown",
   "id": "adabc378-941e-4520-a787-b02a563c6956",
   "metadata": {},
   "source": [
    "Can you think of any reasons why xarray might be preferred to pandas when working with multi-dimensional data like climate models?\n",
    "(Hint: how many dimensions does a pandas dataframe have?)"
   ]
  },
  {
   "cell_type": "code",
   "execution_count": 67,
   "id": "14157c3e-af21-444e-9e8d-5a78eeb9edad",
   "metadata": {
    "editable": true,
    "slideshow": {
     "slide_type": ""
    },
    "tags": [
     "clear_answer_cell"
    ]
   },
   "outputs": [],
   "source": []
  },
  {
   "cell_type": "markdown",
   "id": "4352c46a-c179-439e-b1fe-3953dc8ee41c",
   "metadata": {},
   "source": [
    "## 2. xarray architecture"
   ]
  },
  {
   "cell_type": "markdown",
   "id": "48d19019-2546-46d3-9da1-64d8e7c363e8",
   "metadata": {},
   "source": [
    "1. Open the `'../data/tas_rcp45_2055_mon_avg_change.nc'` dataset and load it into an xarray `Dataset` called `ds`.\n",
    "(Hint: Don't forget to import any packages you need)"
   ]
  },
  {
   "cell_type": "code",
   "execution_count": 6,
   "id": "397feb59-dd4a-42bf-bf95-f093d75d28b3",
   "metadata": {
    "editable": true,
    "slideshow": {
     "slide_type": ""
    },
    "tags": [
     "clear_answer_cell"
    ]
   },
   "outputs": [],
   "source": []
  },
  {
   "cell_type": "markdown",
   "id": "9c34363a-9168-4478-885a-7bd2ec669f3a",
   "metadata": {},
   "source": [
    "2. Look at the parameters of the dataset."
   ]
  },
  {
   "cell_type": "code",
   "execution_count": 7,
   "id": "1257eab9-ded3-4e4b-b703-0b39236f5d23",
   "metadata": {
    "editable": true,
    "slideshow": {
     "slide_type": ""
    },
    "tags": [
     "clear_answer_cell"
    ]
   },
   "outputs": [],
   "source": []
  },
  {
   "cell_type": "markdown",
   "id": "3cee6429-dbf8-4a10-b384-ad9de719a0d0",
   "metadata": {},
   "source": [
    "3. What are the dimensions and variables in this dataset? What does each represent? "
   ]
  },
  {
   "cell_type": "code",
   "execution_count": 35,
   "id": "67ff7eb4-4058-4041-beb7-66e294542887",
   "metadata": {
    "editable": true,
    "slideshow": {
     "slide_type": ""
    },
    "tags": [
     "clear_answer_cell"
    ]
   },
   "outputs": [],
   "source": []
  },
  {
   "cell_type": "markdown",
   "id": "81207a17-eeaf-4de3-a3f6-9a0fd782c252",
   "metadata": {},
   "source": [
    "4. Find the name of the Data Variable, and use it to extract a `DataArray` called `temperature`."
   ]
  },
  {
   "cell_type": "code",
   "execution_count": 28,
   "id": "3d0218b3-df73-4037-9fb9-eea80e1a70d2",
   "metadata": {
    "editable": true,
    "slideshow": {
     "slide_type": ""
    },
    "tags": [
     "clear_answer_cell"
    ]
   },
   "outputs": [],
   "source": []
  },
  {
   "cell_type": "markdown",
   "id": "6ee4a984-305e-44da-87ab-75cf88d71f22",
   "metadata": {},
   "source": [
    "5. Take a look at the `temperature` data array and inspect its dimensions, coordinates and attributes. What are the specific dimensions and coordinates associated with it? What metadata (attributes) is provided?"
   ]
  },
  {
   "cell_type": "code",
   "execution_count": 36,
   "id": "cc8a03b5-d7ce-406b-9602-47a153d2d7ec",
   "metadata": {
    "editable": true,
    "slideshow": {
     "slide_type": ""
    },
    "tags": [
     "clear_answer_cell"
    ]
   },
   "outputs": [],
   "source": []
  },
  {
   "cell_type": "markdown",
   "id": "6fe00161-8c6d-4d05-b85f-89a9b682ff0b",
   "metadata": {},
   "source": [
    "## 3. Label-based indexing"
   ]
  },
  {
   "cell_type": "markdown",
   "id": "f3e16f51-8a98-424a-b908-87360947f69a",
   "metadata": {},
   "source": [
    "6. Select a subset of the `temperature` array using label-based indexing to get data at the position [0,0,0]."
   ]
  },
  {
   "cell_type": "code",
   "execution_count": 31,
   "id": "ec783431-52db-4877-9280-a65f06cd6283",
   "metadata": {
    "editable": true,
    "slideshow": {
     "slide_type": ""
    },
    "tags": [
     "clear_answer_cell"
    ]
   },
   "outputs": [],
   "source": []
  },
  {
   "cell_type": "markdown",
   "id": "2545ea6f-ad6c-4612-86c4-95cc9d23ffdb",
   "metadata": {},
   "source": [
    "7. Use `.loc` to find the lat and lon values at the time `2065-01-30`. "
   ]
  },
  {
   "cell_type": "code",
   "execution_count": 54,
   "id": "608c6185-0026-4d8a-9b1c-2daa468fbacd",
   "metadata": {
    "editable": true,
    "slideshow": {
     "slide_type": ""
    },
    "tags": [
     "clear_answer_cell"
    ]
   },
   "outputs": [],
   "source": []
  },
  {
   "cell_type": "markdown",
   "id": "61407fc5-2ff3-4467-875d-f3e3b06eaa34",
   "metadata": {},
   "source": [
    "8. It's not ideal to have to keep track of which dimension is in which position. Instead, use `.isel` to use the dimension names to get the data in the first time, lat and lon position."
   ]
  },
  {
   "cell_type": "code",
   "execution_count": 56,
   "id": "e92ce957-c1aa-43f6-a622-7bc8adb8cb8c",
   "metadata": {
    "editable": true,
    "slideshow": {
     "slide_type": ""
    },
    "tags": [
     "clear_answer_cell"
    ]
   },
   "outputs": [],
   "source": []
  },
  {
   "cell_type": "markdown",
   "id": "0f6f10a7-0905-42ec-9bf4-b3cf07229637",
   "metadata": {},
   "source": [
    "9. The previous method is still referring to a selection by integer position. Use `.sel` to give a labelled index with the named dimension to find the data at `time=2065-12-30`, `lat=-78.5`, `lon=11.0`."
   ]
  },
  {
   "cell_type": "code",
   "execution_count": 65,
   "id": "e4637532-9499-4884-bd1a-7fdfb0f31367",
   "metadata": {
    "editable": true,
    "slideshow": {
     "slide_type": ""
    },
    "tags": [
     "clear_answer_cell"
    ]
   },
   "outputs": [],
   "source": []
  }
 ],
 "metadata": {
  "kernelspec": {
   "display_name": "Python 3 + Jaspy",
   "language": "python",
   "name": "jaspy"
  },
  "language_info": {
   "codemirror_mode": {
    "name": "ipython",
    "version": 3
   },
   "file_extension": ".py",
   "mimetype": "text/x-python",
   "name": "python",
   "nbconvert_exporter": "python",
   "pygments_lexer": "ipython3",
   "version": "3.11.9"
  }
 },
 "nbformat": 4,
 "nbformat_minor": 5
}
