{
 "cells": [
  {
   "cell_type": "markdown",
   "id": "4fc1b0c3-f3ec-4724-b24c-0e42bfdb2cb4",
   "metadata": {},
   "source": [
    "# Exercise 7: NetCDF4"
   ]
  },
  {
   "cell_type": "markdown",
   "id": "52089a6c-e341-4bd0-be15-72b1cace3aa8",
   "metadata": {},
   "source": [
    "## Creating/opening/closing netCDF files"
   ]
  },
  {
   "cell_type": "code",
   "execution_count": null,
   "id": "e4e990f7-1797-4ac8-8b6c-5ec76dabd1e9",
   "metadata": {},
   "outputs": [],
   "source": []
  },
  {
   "cell_type": "markdown",
   "id": "1c4e8491-204a-4bcf-9696-3535a37c7b8d",
   "metadata": {},
   "source": [
    "## Groups, dimensions and variables"
   ]
  },
  {
   "cell_type": "code",
   "execution_count": null,
   "id": "d09629eb-afd4-43d9-b5a7-f7f23867ae35",
   "metadata": {},
   "outputs": [],
   "source": []
  },
  {
   "cell_type": "markdown",
   "id": "c1556ff8-01f0-4107-b40f-7836659a9627",
   "metadata": {},
   "source": [
    "## Attributes"
   ]
  },
  {
   "cell_type": "code",
   "execution_count": null,
   "id": "900c7ed5-7a5e-49f8-b692-a5e60dec2c90",
   "metadata": {},
   "outputs": [],
   "source": []
  },
  {
   "cell_type": "markdown",
   "id": "df7ec8fe-81b3-4768-9f4b-c643d4a8c254",
   "metadata": {},
   "source": [
    "## Writing data to and receiving data from netCDF variables"
   ]
  },
  {
   "cell_type": "code",
   "execution_count": null,
   "id": "137805a0-176d-4364-85a1-defc7f71f5c4",
   "metadata": {},
   "outputs": [],
   "source": []
  },
  {
   "cell_type": "markdown",
   "id": "5be3bbc0-5276-4696-9332-7a81e8fefeab",
   "metadata": {},
   "source": [
    "## Time-coordinates"
   ]
  },
  {
   "cell_type": "code",
   "execution_count": null,
   "id": "f48a4d2c-4778-42b8-8afd-fab28229579a",
   "metadata": {},
   "outputs": [],
   "source": []
  },
  {
   "cell_type": "markdown",
   "id": "8264bcd2-1c62-4878-85b4-3589668de573",
   "metadata": {},
   "source": [
    "## Multi-file datasets"
   ]
  },
  {
   "cell_type": "code",
   "execution_count": null,
   "id": "9fe8137c-e81e-4fcb-8598-88b96f120ac2",
   "metadata": {},
   "outputs": [],
   "source": []
  },
  {
   "cell_type": "markdown",
   "id": "b82b55e8-993d-49ab-bde8-d3a6cb383c03",
   "metadata": {},
   "source": [
    "## Compression of variables"
   ]
  },
  {
   "cell_type": "code",
   "execution_count": null,
   "id": "ebeab6b6-99dc-450f-84f1-98f6ecb2425d",
   "metadata": {},
   "outputs": [],
   "source": []
  },
  {
   "cell_type": "markdown",
   "id": "8d71f0a2-1f74-4274-99b9-4e3ca676851d",
   "metadata": {},
   "source": [
    "## Variable-length data types"
   ]
  },
  {
   "cell_type": "code",
   "execution_count": null,
   "id": "cac1a51b-6599-4917-b73a-2c35e8aacf55",
   "metadata": {},
   "outputs": [],
   "source": []
  },
  {
   "cell_type": "markdown",
   "id": "7f5e9010-e996-47eb-8c22-4634388d7873",
   "metadata": {},
   "source": [
    "## Enum data type"
   ]
  },
  {
   "cell_type": "code",
   "execution_count": null,
   "id": "f3473edf-f46f-4301-b217-9b6e8f8d0fb5",
   "metadata": {},
   "outputs": [],
   "source": []
  },
  {
   "cell_type": "markdown",
   "id": "6a042cb1-1db3-4eb6-9aba-5edd8bf05a84",
   "metadata": {},
   "source": [
    "## Extension"
   ]
  },
  {
   "cell_type": "code",
   "execution_count": null,
   "id": "1c0af65e-bc55-4062-a426-ebf0d8a839c7",
   "metadata": {},
   "outputs": [],
   "source": []
  }
 ],
 "metadata": {
  "kernelspec": {
   "display_name": "Python 3 + Jaspy",
   "language": "python",
   "name": "jaspy"
  },
  "language_info": {
   "codemirror_mode": {
    "name": "ipython",
    "version": 3
   },
   "file_extension": ".py",
   "mimetype": "text/x-python",
   "name": "python",
   "nbconvert_exporter": "python",
   "pygments_lexer": "ipython3",
   "version": "3.11.9"
  }
 },
 "nbformat": 4,
 "nbformat_minor": 5
}
