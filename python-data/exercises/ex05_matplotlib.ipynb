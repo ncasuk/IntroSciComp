{
 "cells": [
  {
   "cell_type": "markdown",
   "id": "e2574b49-2028-4bdf-a012-60d339dca6ac",
   "metadata": {},
   "source": [
    "# Exercise 5: matplotlib"
   ]
  },
  {
   "cell_type": "markdown",
   "id": "f3612836-233d-479f-a2a8-e7ed99dc1133",
   "metadata": {},
   "source": [
    "## Simple example"
   ]
  },
  {
   "cell_type": "code",
   "execution_count": null,
   "id": "b9686a4f-b56f-4ae1-a007-cbf5330ad346",
   "metadata": {},
   "outputs": [],
   "source": []
  },
  {
   "cell_type": "markdown",
   "id": "5a84dc80-d94a-4440-8806-c51a2fbf9077",
   "metadata": {},
   "source": [
    "## Parts of a figure"
   ]
  },
  {
   "cell_type": "code",
   "execution_count": null,
   "id": "71cd4946-e8bd-40b0-9d21-c7a6fedb11bd",
   "metadata": {},
   "outputs": [],
   "source": []
  },
  {
   "cell_type": "markdown",
   "id": "f2e84578-b714-46db-b276-9e11029552dc",
   "metadata": {},
   "source": [
    "## Types of inputs to plotting functions"
   ]
  },
  {
   "cell_type": "code",
   "execution_count": null,
   "id": "cc28b613-6234-48cd-acc5-75c6fe943985",
   "metadata": {},
   "outputs": [],
   "source": []
  },
  {
   "cell_type": "markdown",
   "id": "b057c40a-511b-43ba-840a-bae423a697e9",
   "metadata": {},
   "source": [
    "## Coding styles"
   ]
  },
  {
   "cell_type": "code",
   "execution_count": null,
   "id": "28f2c69e-3fdd-4454-811a-4566505b8f4c",
   "metadata": {},
   "outputs": [],
   "source": []
  },
  {
   "cell_type": "markdown",
   "id": "8f6ba121-ea31-441c-8ac6-83ad85605684",
   "metadata": {},
   "source": [
    "## Styling"
   ]
  },
  {
   "cell_type": "code",
   "execution_count": null,
   "id": "bffdda96-8f76-48ed-9d2c-178cd52bad2d",
   "metadata": {},
   "outputs": [],
   "source": []
  },
  {
   "cell_type": "markdown",
   "id": "007ed496-b9c6-4c28-84b3-fa72264bb9e4",
   "metadata": {},
   "source": [
    "## Labelling"
   ]
  },
  {
   "cell_type": "code",
   "execution_count": null,
   "id": "abbdc11c-e2ec-4bd6-aee7-50cadbb7174a",
   "metadata": {},
   "outputs": [],
   "source": []
  },
  {
   "cell_type": "markdown",
   "id": "59e3abfd-3389-4ee9-87be-029af1fce401",
   "metadata": {},
   "source": [
    "## Axes"
   ]
  },
  {
   "cell_type": "code",
   "execution_count": null,
   "id": "f6d26ccd-7e88-4b7a-8afc-f8d5cda92aec",
   "metadata": {},
   "outputs": [],
   "source": []
  },
  {
   "cell_type": "markdown",
   "id": "ef2b0027-33a2-4c69-8bff-fada5fcc0daa",
   "metadata": {},
   "source": [
    "## Colour mapped data"
   ]
  },
  {
   "cell_type": "code",
   "execution_count": null,
   "id": "83decc6e-b602-4a37-ab59-fbd604c5f8b8",
   "metadata": {},
   "outputs": [],
   "source": []
  },
  {
   "cell_type": "markdown",
   "id": "71a90323-7b93-4bda-b519-6a945e812e3a",
   "metadata": {},
   "source": [
    "## Multiple figures/axes"
   ]
  },
  {
   "cell_type": "code",
   "execution_count": null,
   "id": "07d0bf2f-5615-4a96-b860-0c41fb9732ba",
   "metadata": {},
   "outputs": [],
   "source": []
  },
  {
   "cell_type": "code",
   "execution_count": null,
   "id": "3d3d277c-3440-484a-a9a4-69f1d0168ec4",
   "metadata": {},
   "outputs": [],
   "source": []
  }
 ],
 "metadata": {
  "kernelspec": {
   "display_name": "Python 3 + Jaspy",
   "language": "python",
   "name": "jaspy"
  },
  "language_info": {
   "codemirror_mode": {
    "name": "ipython",
    "version": 3
   },
   "file_extension": ".py",
   "mimetype": "text/x-python",
   "name": "python",
   "nbconvert_exporter": "python",
   "pygments_lexer": "ipython3",
   "version": "3.11.9"
  }
 },
 "nbformat": 4,
 "nbformat_minor": 5
}
