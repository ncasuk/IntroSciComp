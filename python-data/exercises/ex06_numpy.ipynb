{
 "cells": [
  {
   "cell_type": "markdown",
   "id": "de2a613e-7102-4e10-8fee-4d07c0e1f9eb",
   "metadata": {},
   "source": [
    "# Exercise 6: numpy"
   ]
  },
  {
   "cell_type": "markdown",
   "id": "91d90486-6b89-495c-b5bb-fb610dc73e15",
   "metadata": {},
   "source": [
    "## Basics"
   ]
  },
  {
   "cell_type": "code",
   "execution_count": null,
   "id": "58ccfac7-b803-4d9d-a728-c3dc08ca8db5",
   "metadata": {},
   "outputs": [],
   "source": []
  },
  {
   "cell_type": "markdown",
   "id": "79f773e8-ab4e-4273-b398-b1a6f5682677",
   "metadata": {},
   "source": [
    "## Shape manipulation"
   ]
  },
  {
   "cell_type": "code",
   "execution_count": null,
   "id": "8b7141e5-f59f-47bd-a26c-19d342df5d18",
   "metadata": {},
   "outputs": [],
   "source": []
  },
  {
   "cell_type": "markdown",
   "id": "288fc0f9-7014-4d9b-9b02-475b9c99d4e7",
   "metadata": {},
   "source": [
    "## Copies and views"
   ]
  },
  {
   "cell_type": "code",
   "execution_count": null,
   "id": "182c4af3-c08d-40f2-a08b-4b3fe427b155",
   "metadata": {},
   "outputs": [],
   "source": []
  },
  {
   "cell_type": "markdown",
   "id": "5e6e8f7e-6d3b-4405-bc1c-4afa9d6188d4",
   "metadata": {},
   "source": [
    "## Advanced"
   ]
  },
  {
   "cell_type": "code",
   "execution_count": null,
   "id": "dc6e841f-074d-4d8d-9f6e-63e4f2032ff1",
   "metadata": {},
   "outputs": [],
   "source": []
  }
 ],
 "metadata": {
  "kernelspec": {
   "display_name": "Python 3 + Jaspy",
   "language": "python",
   "name": "jaspy"
  },
  "language_info": {
   "codemirror_mode": {
    "name": "ipython",
    "version": 3
   },
   "file_extension": ".py",
   "mimetype": "text/x-python",
   "name": "python",
   "nbconvert_exporter": "python",
   "pygments_lexer": "ipython3",
   "version": "3.11.9"
  }
 },
 "nbformat": 4,
 "nbformat_minor": 5
}
