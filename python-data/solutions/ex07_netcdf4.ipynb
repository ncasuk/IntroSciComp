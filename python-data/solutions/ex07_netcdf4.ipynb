{
 "cells": [
  {
   "cell_type": "markdown",
   "id": "4fc1b0c3-f3ec-4724-b24c-0e42bfdb2cb4",
   "metadata": {},
   "source": [
    "# Exercise 7: NetCDF4"
   ]
  },
  {
   "cell_type": "markdown",
   "id": "0ac81b88-7771-4404-89cd-d9ec233651d7",
   "metadata": {},
   "source": [
    "## Aim: Introduce the netCDF4 library in Python to read and create NetCDF4 Files."
   ]
  },
  {
   "cell_type": "markdown",
   "id": "b9de61d8-d634-4f06-b4d4-a1785fa3c6eb",
   "metadata": {},
   "source": [
    "### Issues covered:\n",
    "- Importing netCDF4\n",
    "- Reading a NetCDF file as a Dataset instance\n",
    "- Accessing dimensions, variables and attributes\n",
    "- Defining dimensions, variables and attributes\n",
    "- Writing a NetCDF file as a Dataset"
   ]
  },
  {
   "cell_type": "markdown",
   "id": "52089a6c-e341-4bd0-be15-72b1cace3aa8",
   "metadata": {},
   "source": [
    "## Creating/opening/closing netCDF files"
   ]
  },
  {
   "cell_type": "markdown",
   "id": "a47cb092-895b-411d-8ac2-2b7df0d1138d",
   "metadata": {},
   "source": [
    "Import the `netCDF4` library"
   ]
  },
  {
   "cell_type": "code",
   "execution_count": 1,
   "id": "261f60af-c7ec-4cb3-8859-5d173a534a1d",
   "metadata": {},
   "outputs": [],
   "source": [
    "import netCDF4"
   ]
  },
  {
   "cell_type": "markdown",
   "id": "06628003-f527-4149-a4c5-f5cc10b5a4c1",
   "metadata": {},
   "source": [
    "Let's create a new NetCDF file called \"test.nc\" in all? mode ('a') with the NETCDF4 format. This mode will allow us to edit the dataset later."
   ]
  },
  {
   "cell_type": "code",
   "execution_count": 2,
   "id": "1b74c45c-5734-4866-9224-e4b6baf9c1f5",
   "metadata": {},
   "outputs": [],
   "source": [
    "new_file = netCDF4.Dataset(\"test.nc\", \"a\", format=\"NETCDF4\")"
   ]
  },
  {
   "cell_type": "markdown",
   "id": "0589d671-d455-49f2-bb14-d2bdf18b756d",
   "metadata": {},
   "source": [
    "Inspect the new file to see what its `data_model` is."
   ]
  },
  {
   "cell_type": "code",
   "execution_count": 3,
   "id": "7d2e8323-3b81-48aa-82c7-d6a38602fb20",
   "metadata": {},
   "outputs": [
    {
     "data": {
      "text/plain": [
       "'NETCDF4'"
      ]
     },
     "execution_count": 3,
     "metadata": {},
     "output_type": "execute_result"
    }
   ],
   "source": [
    "new_file.data_model"
   ]
  },
  {
   "cell_type": "markdown",
   "id": "1c4e8491-204a-4bcf-9696-3535a37c7b8d",
   "metadata": {},
   "source": [
    "## Groups, dimensions, variables and attributes"
   ]
  },
  {
   "cell_type": "markdown",
   "id": "4649d782-c96b-4bc5-840b-231345ed4c79",
   "metadata": {},
   "source": [
    "### Groups"
   ]
  },
  {
   "cell_type": "markdown",
   "id": "c5ecfa40-dcd9-4728-aba7-57fef3dd089e",
   "metadata": {},
   "source": [
    "Groups act as containers for variables, dimensions and attributes. Let's add a group to the dataset we just made called \"forecasts\"."
   ]
  },
  {
   "cell_type": "code",
   "execution_count": 4,
   "id": "6c3c7a16-5d5f-4f01-b83e-a20fe1c96392",
   "metadata": {},
   "outputs": [],
   "source": [
    "group1 = new_file.createGroup(\"forecasts\")"
   ]
  },
  {
   "cell_type": "markdown",
   "id": "56b680a2-13c4-45eb-b468-c6317da7a6d3",
   "metadata": {},
   "source": [
    "List the groups of your dataset using `.groups`"
   ]
  },
  {
   "cell_type": "code",
   "execution_count": 5,
   "id": "900c7ed5-7a5e-49f8-b692-a5e60dec2c90",
   "metadata": {},
   "outputs": [
    {
     "data": {
      "text/plain": [
       "{'forecasts': <class 'netCDF4._netCDF4.Group'>\n",
       " group /forecasts:\n",
       "     dimensions(sizes): \n",
       "     variables(dimensions): \n",
       "     groups: }"
      ]
     },
     "execution_count": 5,
     "metadata": {},
     "output_type": "execute_result"
    }
   ],
   "source": [
    "new_file.groups"
   ]
  },
  {
   "cell_type": "markdown",
   "id": "c85a0115-2a2a-4b0b-b815-99a9b2798298",
   "metadata": {},
   "source": [
    "Create a new group within forecasts called `model1` then print the groups to see your new group."
   ]
  },
  {
   "cell_type": "code",
   "execution_count": 6,
   "id": "6255ad7d-677a-486b-8b65-aab403ea0c4e",
   "metadata": {},
   "outputs": [
    {
     "data": {
      "text/plain": [
       "{'forecasts': <class 'netCDF4._netCDF4.Group'>\n",
       " group /forecasts:\n",
       "     dimensions(sizes): \n",
       "     variables(dimensions): \n",
       "     groups: model1}"
      ]
     },
     "execution_count": 6,
     "metadata": {},
     "output_type": "execute_result"
    }
   ],
   "source": [
    "group2 = new_file.createGroup(\"/forecasts/model1\")\n",
    "new_file.groups"
   ]
  },
  {
   "cell_type": "markdown",
   "id": "26b04531-660d-476c-9976-872c98acc13a",
   "metadata": {},
   "source": [
    "What happens if you do `group3 = new_file.createGroup(\"/analyses/model2\")`?"
   ]
  },
  {
   "cell_type": "code",
   "execution_count": 7,
   "id": "3ec10c01-a928-4800-9ba6-8000d7dd28e4",
   "metadata": {},
   "outputs": [
    {
     "data": {
      "text/plain": [
       "{'forecasts': <class 'netCDF4._netCDF4.Group'>\n",
       " group /forecasts:\n",
       "     dimensions(sizes): \n",
       "     variables(dimensions): \n",
       "     groups: model1,\n",
       " 'analyses': <class 'netCDF4._netCDF4.Group'>\n",
       " group /analyses:\n",
       "     dimensions(sizes): \n",
       "     variables(dimensions): \n",
       "     groups: model2}"
      ]
     },
     "execution_count": 7,
     "metadata": {},
     "output_type": "execute_result"
    }
   ],
   "source": [
    "# It creates the 'analyses' group then adds the 'model2' group to it.\n",
    "group3 = new_file.createGroup(\"/analyses/model2\")\n",
    "new_file.groups"
   ]
  },
  {
   "cell_type": "markdown",
   "id": "d8ed4ba4-a8ec-4673-9b68-4c9a45fbecae",
   "metadata": {},
   "source": [
    "What happens if you do `group4 = new_file.createGroup(\"analyses\")`?"
   ]
  },
  {
   "cell_type": "code",
   "execution_count": 8,
   "id": "ad476fac-e54f-464b-9fc1-2a4bd935da27",
   "metadata": {},
   "outputs": [
    {
     "data": {
      "text/plain": [
       "{'forecasts': <class 'netCDF4._netCDF4.Group'>\n",
       " group /forecasts:\n",
       "     dimensions(sizes): \n",
       "     variables(dimensions): \n",
       "     groups: model1,\n",
       " 'analyses': <class 'netCDF4._netCDF4.Group'>\n",
       " group /analyses:\n",
       "     dimensions(sizes): \n",
       "     variables(dimensions): \n",
       "     groups: model2}"
      ]
     },
     "execution_count": 8,
     "metadata": {},
     "output_type": "execute_result"
    }
   ],
   "source": [
    "# Nothing - it returns the existing group.\n",
    "group4 = new_file.createGroup(\"analyses\")\n",
    "new_file.groups"
   ]
  },
  {
   "cell_type": "markdown",
   "id": "b898110e-14e8-464d-9a4f-bd19a273c7cb",
   "metadata": {},
   "source": [
    "### Dimensions"
   ]
  },
  {
   "cell_type": "markdown",
   "id": "4bdf87db-5455-45a2-ae47-22febfa0a20e",
   "metadata": {},
   "source": [
    "Create some dimensions for the `new_file` dataset:\n",
    "- time dimension with unlimited size\n",
    "- level dimension with unlimited size\n",
    "- lat dimension with unlimited size\n",
    "- lon dimension with unlimited size"
   ]
  },
  {
   "cell_type": "code",
   "execution_count": 9,
   "id": "037ca268-58fa-4657-a527-112d08cc16b8",
   "metadata": {},
   "outputs": [],
   "source": [
    "time = new_file.createDimension('time', None)\n",
    "level = new_file.createDimension('level', None)\n",
    "lat = new_file.createDimension('lat', None)\n",
    "lon = new_file.createDimension('lon', None)"
   ]
  },
  {
   "cell_type": "markdown",
   "id": "9a1fe5d7-da0d-48bb-bf49-e1bb405d3aef",
   "metadata": {},
   "source": [
    "Print out the dimensions you just created."
   ]
  },
  {
   "cell_type": "code",
   "execution_count": 10,
   "id": "fb06e427-e5f9-421f-b37c-5255cfdfd613",
   "metadata": {},
   "outputs": [
    {
     "data": {
      "text/plain": [
       "{'time': <class 'netCDF4._netCDF4.Dimension'> (unlimited): name = 'time', size = 0,\n",
       " 'level': <class 'netCDF4._netCDF4.Dimension'> (unlimited): name = 'level', size = 0,\n",
       " 'lat': <class 'netCDF4._netCDF4.Dimension'> (unlimited): name = 'lat', size = 0,\n",
       " 'lon': <class 'netCDF4._netCDF4.Dimension'> (unlimited): name = 'lon', size = 0}"
      ]
     },
     "execution_count": 10,
     "metadata": {},
     "output_type": "execute_result"
    }
   ],
   "source": [
    "new_file.dimensions"
   ]
  },
  {
   "cell_type": "markdown",
   "id": "0d6f4e81-4665-4a19-af08-1d04c5f82cff",
   "metadata": {},
   "source": [
    "Check the length of the latitude dimension to make sure it is 10."
   ]
  },
  {
   "cell_type": "code",
   "execution_count": 11,
   "id": "582fdcac-0acc-44ff-adce-3008576d0b5a",
   "metadata": {},
   "outputs": [
    {
     "name": "stdout",
     "output_type": "stream",
     "text": [
      "0\n"
     ]
    }
   ],
   "source": [
    "print(len(lat))"
   ]
  },
  {
   "cell_type": "markdown",
   "id": "f8f1da56-2f41-408c-91a7-78128e75bb92",
   "metadata": {},
   "source": [
    "Check that the level dimension is unlimited."
   ]
  },
  {
   "cell_type": "code",
   "execution_count": 12,
   "id": "55d88a4e-4805-47d0-b884-b127385fee52",
   "metadata": {},
   "outputs": [
    {
     "name": "stdout",
     "output_type": "stream",
     "text": [
      "True\n"
     ]
    }
   ],
   "source": [
    "print(level.isunlimited())"
   ]
  },
  {
   "cell_type": "markdown",
   "id": "63ba75d8-8a4c-4510-b68c-509d04c68d3d",
   "metadata": {},
   "source": [
    "Let's take a look at an overview using \n",
    "```\n",
    "for dim in new_file.dimensions.values():\n",
    "    print(dim)\n",
    "```"
   ]
  },
  {
   "cell_type": "code",
   "execution_count": 13,
   "id": "310ef35d-4395-45f4-8177-4c99b88ef410",
   "metadata": {},
   "outputs": [
    {
     "name": "stdout",
     "output_type": "stream",
     "text": [
      "<class 'netCDF4._netCDF4.Dimension'> (unlimited): name = 'time', size = 0\n",
      "<class 'netCDF4._netCDF4.Dimension'> (unlimited): name = 'level', size = 0\n",
      "<class 'netCDF4._netCDF4.Dimension'> (unlimited): name = 'lat', size = 0\n",
      "<class 'netCDF4._netCDF4.Dimension'> (unlimited): name = 'lon', size = 0\n"
     ]
    }
   ],
   "source": [
    "for dim in new_file.dimensions.values():\n",
    "    print(dim)"
   ]
  },
  {
   "cell_type": "markdown",
   "id": "56511ca9-39a1-466a-9516-d801ab53407f",
   "metadata": {},
   "source": [
    "### Variables"
   ]
  },
  {
   "cell_type": "markdown",
   "id": "68e7d217-ea7c-4ea2-af69-942239aebb29",
   "metadata": {},
   "source": [
    "Remember that the data types are as follows:\n",
    "- `f4`: 32-bit floting point \n",
    "- `f8`: 64-bit floating point \n",
    "- `i4`: 32-bit signed integer \n",
    "- `i2`: 16-bit signed integer\n",
    "- `i8`: 64-bit unsigned integer\n",
    "- `i1`: 8-bit signed integer\n",
    "- `u1`: 8-bit unsigned integer\n",
    "- `u2`: 16-bit unsigned integer\n",
    "- `u4`: 32-bit unsigned integer\n",
    "- `u8`: 64-bit unsigned integer\n",
    "- `S1`: single-character string"
   ]
  },
  {
   "cell_type": "markdown",
   "id": "1b7176b7-79b9-4e38-99f5-5491d91de3a2",
   "metadata": {},
   "source": [
    "Create a scalar variable called `times` with the type set to `f8`. "
   ]
  },
  {
   "cell_type": "code",
   "execution_count": 14,
   "id": "292ca4fe-3681-4b5e-8b2e-c681a3aa9249",
   "metadata": {},
   "outputs": [],
   "source": [
    "times = new_file.createVariable('times', 'f8')"
   ]
  },
  {
   "cell_type": "markdown",
   "id": "506bd3b0-da19-4900-a281-a06bebfdb1cc",
   "metadata": {},
   "source": [
    "Create a scalar variable called `levels` but this time set the type to `np.float64`. (You'll need to import nump as np)"
   ]
  },
  {
   "cell_type": "code",
   "execution_count": 15,
   "id": "0ae25ee5-fc79-4311-ba08-dd208bab9a01",
   "metadata": {},
   "outputs": [],
   "source": [
    "import numpy as np\n",
    "levels = new_file.createVariable('levels', np.float64)"
   ]
  },
  {
   "cell_type": "markdown",
   "id": "f9fabe95-dcd8-4a7e-a80a-aae1d4e86c2f",
   "metadata": {},
   "source": [
    "Print out the variables using `new_file.variables`. What do you notice about the types?"
   ]
  },
  {
   "cell_type": "code",
   "execution_count": 16,
   "id": "30cc0e9b-4d7a-44e8-b28a-ed0885e6ff1e",
   "metadata": {},
   "outputs": [
    {
     "name": "stdout",
     "output_type": "stream",
     "text": [
      "{'times': <class 'netCDF4._netCDF4.Variable'>\n",
      "float64 times()\n",
      "unlimited dimensions: \n",
      "current shape = ()\n",
      "filling on, default _FillValue of 9.969209968386869e+36 used, 'levels': <class 'netCDF4._netCDF4.Variable'>\n",
      "float64 levels()\n",
      "unlimited dimensions: \n",
      "current shape = ()\n",
      "filling on, default _FillValue of 9.969209968386869e+36 used}\n"
     ]
    }
   ],
   "source": [
    "# The types are the same - both float64. Sometimes people will use np.float64 as it is more clear than f8. \n",
    "print(new_file.variables)"
   ]
  },
  {
   "cell_type": "markdown",
   "id": "48e45815-5ac9-4fc1-b70c-7e1e6fe98a12",
   "metadata": {},
   "source": [
    "Create a variable in the model2 group we made earlier called `temp`, with the float64 type and this time give it dimensions: (`time`, `level`, `lat`, `lon`). Print it out."
   ]
  },
  {
   "cell_type": "code",
   "execution_count": 17,
   "id": "f48418c6-0460-442d-b602-93350d662e95",
   "metadata": {},
   "outputs": [
    {
     "name": "stdout",
     "output_type": "stream",
     "text": [
      "{'times': <class 'netCDF4._netCDF4.Variable'>\n",
      "float64 times()\n",
      "unlimited dimensions: \n",
      "current shape = ()\n",
      "filling on, default _FillValue of 9.969209968386869e+36 used, 'levels': <class 'netCDF4._netCDF4.Variable'>\n",
      "float64 levels()\n",
      "unlimited dimensions: \n",
      "current shape = ()\n",
      "filling on, default _FillValue of 9.969209968386869e+36 used}\n"
     ]
    }
   ],
   "source": [
    "temp = new_file.createVariable(\"/analyses/model2/temp\", np.float64, (\"time\", \"level\", \"lat\", \"lon\",))\n",
    "print(new_file.variables)"
   ]
  },
  {
   "cell_type": "markdown",
   "id": "bbc1c879-7326-41ad-8901-92846ad94df3",
   "metadata": {},
   "source": [
    "Create two values: \n",
    "- longitudes with the name \"lon\", type float64 and dimension lon\n",
    "- latitudes with the name \"lat\", type float64 and dimension lat"
   ]
  },
  {
   "cell_type": "code",
   "execution_count": 18,
   "id": "3998e37b-ab03-422d-b271-adabf8ad25c1",
   "metadata": {},
   "outputs": [],
   "source": [
    "longitudes = new_file.createVariable(\"lon\", np.float64, (\"lon\",))\n",
    "latitudes = new_file.createVariable(\"lat\", np.float64, (\"lat\",))"
   ]
  },
  {
   "cell_type": "markdown",
   "id": "cf76552d-79d8-41c4-95fc-4616c02248b3",
   "metadata": {},
   "source": [
    "### Attributes"
   ]
  },
  {
   "cell_type": "markdown",
   "id": "0be859b4-16a3-48d0-9242-b8c590d8508a",
   "metadata": {},
   "source": [
    "Let's create a global attribute. Create an attribute on the new_file object called `.description` with the value `This is a test description.`."
   ]
  },
  {
   "cell_type": "code",
   "execution_count": 19,
   "id": "5ae8dcf6-0184-4f83-b75c-9684a852d140",
   "metadata": {},
   "outputs": [],
   "source": [
    "new_file.description = \"This is a test description.\""
   ]
  },
  {
   "cell_type": "markdown",
   "id": "a0e66b74-12fa-4347-b329-3f5ead26b88f",
   "metadata": {},
   "source": [
    "Let's create a variable attribute. Create an attribute on the `times` variable called `units` and put `hours`."
   ]
  },
  {
   "cell_type": "code",
   "execution_count": 20,
   "id": "38ce08b2-3f59-43e5-a964-5c992d22270b",
   "metadata": {},
   "outputs": [],
   "source": [
    "times.units = \"hours\""
   ]
  },
  {
   "cell_type": "markdown",
   "id": "b64e9e37-5964-4b8f-a170-4697b8e90f3f",
   "metadata": {},
   "source": [
    "Take a look at the attrs on `new_file` using `new_file.ncattrs()`. What does this show?"
   ]
  },
  {
   "cell_type": "code",
   "execution_count": 21,
   "id": "11a42d52-b2e5-46af-9285-7b46b1d126c1",
   "metadata": {},
   "outputs": [
    {
     "data": {
      "text/plain": [
       "['description']"
      ]
     },
     "execution_count": 21,
     "metadata": {},
     "output_type": "execute_result"
    }
   ],
   "source": [
    "#This just shows the name of the global attrs.\n",
    "new_file.ncattrs()"
   ]
  },
  {
   "cell_type": "markdown",
   "id": "3a7ff17c-a0c0-4d18-a9f1-6bc5531edbce",
   "metadata": {},
   "source": [
    "To get the name AND description, use the following loop:\n",
    "```\n",
    "for name in new_file.ncattrs():\n",
    "    print(name, \":\", getattr(new_file, name))\n",
    "```"
   ]
  },
  {
   "cell_type": "code",
   "execution_count": 22,
   "id": "a99dcb3f-35a1-45ee-bce3-efea5d756309",
   "metadata": {},
   "outputs": [
    {
     "name": "stdout",
     "output_type": "stream",
     "text": [
      "description : This is a test description.\n"
     ]
    }
   ],
   "source": [
    "for name in new_file.ncattrs():\n",
    "    print(name, \":\", getattr(new_file, name))"
   ]
  },
  {
   "cell_type": "markdown",
   "id": "0c7aa15a-5d58-45fb-949a-cccfb83ea268",
   "metadata": {},
   "source": [
    "There is an easier way of doing this - using `new_file.__dict__`. Try it out!"
   ]
  },
  {
   "cell_type": "code",
   "execution_count": 23,
   "id": "a743e5cc-8de7-41c2-8609-f360666c6771",
   "metadata": {},
   "outputs": [
    {
     "data": {
      "text/plain": [
       "{'description': 'This is a test description.'}"
      ]
     },
     "execution_count": 23,
     "metadata": {},
     "output_type": "execute_result"
    }
   ],
   "source": [
    "new_file.__dict__"
   ]
  },
  {
   "cell_type": "markdown",
   "id": "df7ec8fe-81b3-4768-9f4b-c643d4a8c254",
   "metadata": {},
   "source": [
    "## Writing data to and receiving data from netCDF variables"
   ]
  },
  {
   "cell_type": "markdown",
   "id": "d636cdaa-c646-406a-96e9-85810cea39ec",
   "metadata": {},
   "source": [
    "Create an array to populate the lats with using `lats = np.arange(-100, 100, 2)` and an array to populate the lons with using `lons = np.arange(-200, 200, 2)`."
   ]
  },
  {
   "cell_type": "code",
   "execution_count": 24,
   "id": "f14444cf-ff2b-4b90-b4fd-3af73ad640b4",
   "metadata": {},
   "outputs": [],
   "source": [
    "lats = np.arange(-90, 91, 5)\n",
    "lons = np.arange(-180, 180, 5)"
   ]
  },
  {
   "cell_type": "markdown",
   "id": "894361b3-452c-4d78-8c46-4cc7946a0fa5",
   "metadata": {},
   "source": [
    "Print out latitudes and longitudes to see what it looks like before we populate these variables."
   ]
  },
  {
   "cell_type": "code",
   "execution_count": 25,
   "id": "309c34ac-8eed-4a8f-b213-7d94fbcb07dc",
   "metadata": {},
   "outputs": [
    {
     "name": "stdout",
     "output_type": "stream",
     "text": [
      "<class 'netCDF4._netCDF4.Variable'>\n",
      "float64 lat(lat)\n",
      "unlimited dimensions: lat\n",
      "current shape = (0,)\n",
      "filling on, default _FillValue of 9.969209968386869e+36 used\n",
      "<class 'netCDF4._netCDF4.Variable'>\n",
      "float64 lon(lon)\n",
      "unlimited dimensions: lon\n",
      "current shape = (0,)\n",
      "filling on, default _FillValue of 9.969209968386869e+36 used\n"
     ]
    }
   ],
   "source": [
    "print(latitudes)\n",
    "print(longitudes)"
   ]
  },
  {
   "cell_type": "markdown",
   "id": "9ac44213-569e-4d6b-8cd7-9f7e82be0429",
   "metadata": {},
   "source": [
    "Populate the two variables with our data using `latitudes[:] = lats` and the same for longitudes."
   ]
  },
  {
   "cell_type": "code",
   "execution_count": 26,
   "id": "2ed149e9-d1d9-4566-b462-7292cf86f726",
   "metadata": {},
   "outputs": [],
   "source": [
    "latitudes[:] = lats\n",
    "longitudes[:] = lons"
   ]
  },
  {
   "cell_type": "markdown",
   "id": "e7e07e46-cabc-4021-aade-4ce4e5c243e3",
   "metadata": {},
   "source": [
    "Print the data out and take a look."
   ]
  },
  {
   "cell_type": "code",
   "execution_count": 27,
   "id": "9eaf8879-a796-45e7-ad04-4aab8bea632a",
   "metadata": {},
   "outputs": [
    {
     "name": "stdout",
     "output_type": "stream",
     "text": [
      "latitudes =\n",
      "[-90. -85. -80. -75. -70. -65. -60. -55. -50. -45. -40. -35. -30. -25.\n",
      " -20. -15. -10.  -5.   0.   5.  10.  15.  20.  25.  30.  35.  40.  45.\n",
      "  50.  55.  60.  65.  70.  75.  80.  85.  90.]\n",
      "longitudes =\n",
      "[-180. -175. -170. -165. -160. -155. -150. -145. -140. -135. -130. -125.\n",
      " -120. -115. -110. -105. -100.  -95.  -90.  -85.  -80.  -75.  -70.  -65.\n",
      "  -60.  -55.  -50.  -45.  -40.  -35.  -30.  -25.  -20.  -15.  -10.   -5.\n",
      "    0.    5.   10.   15.   20.   25.   30.   35.   40.   45.   50.   55.\n",
      "   60.   65.   70.   75.   80.   85.   90.   95.  100.  105.  110.  115.\n",
      "  120.  125.  130.  135.  140.  145.  150.  155.  160.  165.  170.  175.]\n"
     ]
    }
   ],
   "source": [
    "print(\"latitudes =\\n{}\".format(latitudes[:]))\n",
    "print(\"longitudes =\\n{}\".format(longitudes[:]))"
   ]
  },
  {
   "cell_type": "markdown",
   "id": "ce5d22bf-d201-424e-babc-11d9d431f834",
   "metadata": {},
   "source": [
    "- Extend new_file to include dimensions for `time` and `pressure` where time is an unlimited dimension.\n",
    "- Define a 4D variable `temperature` with dimensions (time, pressure, latitude, longitude)\n",
    "- Generate random temperature data for a subset of time and pressure values and assign it to `temperature`. Use dimensions (10, 3, 37, 73) where `time` ranges from 0 to 9, `pressure` has three levels (850, 500 and 200 hPa).\n",
    "- After assigning the data, print the shape of the `temperature` variable."
   ]
  },
  {
   "cell_type": "code",
   "execution_count": 28,
   "id": "f4c4384f-a966-4615-a2da-77168568ae77",
   "metadata": {},
   "outputs": [
    {
     "name": "stdout",
     "output_type": "stream",
     "text": [
      "temp shape after adding data = (10, 10, 37, 72)\n"
     ]
    }
   ],
   "source": [
    "import numpy as np\n",
    "\n",
    "new_file.createDimension(\"pressure\", 10)\n",
    "\n",
    "temperature = new_file.createVariable(\"temperature\", \"f4\", (\"time\", \"pressure\", \"lat\", \"lon\",))\n",
    "\n",
    "nlats = len(new_file.dimensions[\"lat\"])\n",
    "nlons = len(new_file.dimensions[\"lon\"])\n",
    "\n",
    "temperature[0:10, 0:3, :, :] = np.random.uniform(size=(10, 3, nlats, nlons))\n",
    "\n",
    "print(\"temp shape after adding data = {}\".format(temperature.shape))"
   ]
  },
  {
   "cell_type": "markdown",
   "id": "12c17e3e-ad67-4c29-a426-e6390626ce25",
   "metadata": {},
   "source": [
    "- Define the `pressure` variable with values [1000, 850, 700, 500, 300, 250, 200, 150, 100, 50].\n",
    "- Populate the `pressure` variable in the netCDF dataset.\n",
    "- Use fancy indexing to slice the temoerature variable: select times 0, 2 and 4. Use pressure levels [850, 500, 200] and select only positive latitudes and longitudes.\n",
    "- Print the shape of the resulting subset array."
   ]
  },
  {
   "cell_type": "code",
   "execution_count": 29,
   "id": "769c08e7-6db7-4112-b49e-8003787b6882",
   "metadata": {},
   "outputs": [
    {
     "name": "stdout",
     "output_type": "stream",
     "text": [
      "shape of fancy temp slice = (5, 3, 18, 35)\n"
     ]
    }
   ],
   "source": [
    "pressure = new_file.createVariable(\"pressure\", \"f4\", (\"pressure\",))\n",
    "\n",
    "pressure[:] = [1000., 850., 700., 500., 300., 250., 200., 150., 100., 50.]\n",
    "\n",
    "temperature = new_file.variables[\"temperature\"]\n",
    "latitudes = new_file.variables[\"lat\"][:]\n",
    "longitudes = new_file.variables[\"lon\"][:]\n",
    "\n",
    "tempdat = temperature[::2, [1, 3, 6], latitudes > 0, longitudes > 0]\n",
    "print(\"shape of fancy temp slice = {}\".format(tempdat.shape))"
   ]
  },
  {
   "cell_type": "markdown",
   "id": "5be3bbc0-5276-4696-9332-7a81e8fefeab",
   "metadata": {},
   "source": [
    "## Time-coordinates"
   ]
  },
  {
   "cell_type": "markdown",
   "id": "b5de27f8-2588-4709-9f2c-ce9c8329fa3d",
   "metadata": {},
   "source": [
    "Most metadata standards specify that time should be measured relative to a fixed date with units such as `hours since YY-MM-DD hh:mm:ss`. We can convert values to and from calendar dates using `num2date` and `date2num` from the `cftime` library. Two other helpful functions are `datetime` and `timedelta` from the `datetime` library."
   ]
  },
  {
   "cell_type": "markdown",
   "id": "a295c7b8-b375-4b0b-a798-9fcb4ee7bb21",
   "metadata": {},
   "source": [
    "- Let's generate a list of data and time values: create a list called `dates` containing date and time values, starting from January 1st 2022, and incrementing by 6 hours for a total of 5 entries. \n",
    "- Use `date2num` to convert your list of dates to numeric values using: `units=\"hours since 2022-01-01 00:00:00\"` amd `calendar=\"gregorian\"`. Store these in an array called `times`.\n",
    "- Print the numeric times values to confirm the numeric representation.\n",
    "- Use `num2date` to convert times back to datetime objects using the same units and calendar. Store these in a list called `converted_dates`\n",
    "- Print the converted dates to verify they match the original dates list. "
   ]
  },
  {
   "cell_type": "code",
   "execution_count": 33,
   "id": "e0a5e051-9910-4871-be1d-aba109c6e768",
   "metadata": {},
   "outputs": [
    {
     "name": "stdout",
     "output_type": "stream",
     "text": [
      "Original dates: [datetime.datetime(2022, 1, 1, 0, 0), datetime.datetime(2022, 1, 1, 6, 0), datetime.datetime(2022, 1, 1, 12, 0), datetime.datetime(2022, 1, 1, 18, 0), datetime.datetime(2022, 1, 2, 0, 0)]\n",
      "Numeric time values (in units 'hours since 2022-01-01 00:00:00'):\n",
      "[ 0  6 12 18 24]\n",
      "Dates corresponding to numeric time values:\n",
      " [cftime.DatetimeGregorian(2022, 1, 1, 0, 0, 0, 0, has_year_zero=False)\n",
      " cftime.DatetimeGregorian(2022, 1, 1, 6, 0, 0, 0, has_year_zero=False)\n",
      " cftime.DatetimeGregorian(2022, 1, 1, 12, 0, 0, 0, has_year_zero=False)\n",
      " cftime.DatetimeGregorian(2022, 1, 1, 18, 0, 0, 0, has_year_zero=False)\n",
      " cftime.DatetimeGregorian(2022, 1, 2, 0, 0, 0, 0, has_year_zero=False)]\n"
     ]
    }
   ],
   "source": [
    "from datetime import datetime, timedelta\n",
    "from cftime import num2date, date2num\n",
    "\n",
    "# Step 1: Generate dates list\n",
    "dates = [datetime(2022, 1, 1) + n * timedelta(hours=6) for n in range(5)]\n",
    "print(\"Original dates:\", dates)\n",
    "\n",
    "# Step 2: Convert dates to numeric time values\n",
    "units = \"hours since 2022-01-01 00:00:00\"\n",
    "calendar = \"gregorian\"\n",
    "times = date2num(dates, units=units, calendar=calendar)\n",
    "\n",
    "# Step 3: Print numeric time values\n",
    "print(\"Numeric time values (in units '{}'):\\n{}\".format(units, times))\n",
    "\n",
    "# Step 4: Convert numeric time values back to calendar dates\n",
    "converted_dates = num2date(times, units=units, calendar=calendar)\n",
    "\n",
    "# Step 5: Print converted dates\n",
    "print(\"Dates corresponding to numeric time values:\\n\", converted_dates)"
   ]
  },
  {
   "cell_type": "markdown",
   "id": "8264bcd2-1c62-4878-85b4-3589668de573",
   "metadata": {},
   "source": [
    "## Multi-file datasets"
   ]
  },
  {
   "cell_type": "code",
   "execution_count": null,
   "id": "9fe8137c-e81e-4fcb-8598-88b96f120ac2",
   "metadata": {},
   "outputs": [],
   "source": []
  },
  {
   "cell_type": "markdown",
   "id": "b82b55e8-993d-49ab-bde8-d3a6cb383c03",
   "metadata": {},
   "source": [
    "## Compression of variables"
   ]
  },
  {
   "cell_type": "code",
   "execution_count": null,
   "id": "ebeab6b6-99dc-450f-84f1-98f6ecb2425d",
   "metadata": {},
   "outputs": [],
   "source": []
  },
  {
   "cell_type": "markdown",
   "id": "dacc9cdd-87a1-4115-9300-718a96a7fec6",
   "metadata": {},
   "source": [
    "## Compound data types"
   ]
  },
  {
   "cell_type": "code",
   "execution_count": null,
   "id": "2152d9b1-70c3-4871-acfe-3d917ba4ee0a",
   "metadata": {},
   "outputs": [],
   "source": []
  },
  {
   "cell_type": "markdown",
   "id": "8d71f0a2-1f74-4274-99b9-4e3ca676851d",
   "metadata": {},
   "source": [
    "## Variable-length data types"
   ]
  },
  {
   "cell_type": "code",
   "execution_count": null,
   "id": "cac1a51b-6599-4917-b73a-2c35e8aacf55",
   "metadata": {},
   "outputs": [],
   "source": []
  },
  {
   "cell_type": "markdown",
   "id": "7f5e9010-e996-47eb-8c22-4634388d7873",
   "metadata": {},
   "source": [
    "## Enum data type"
   ]
  },
  {
   "cell_type": "code",
   "execution_count": null,
   "id": "f3473edf-f46f-4301-b217-9b6e8f8d0fb5",
   "metadata": {},
   "outputs": [],
   "source": []
  },
  {
   "cell_type": "markdown",
   "id": "6a042cb1-1db3-4eb6-9aba-5edd8bf05a84",
   "metadata": {},
   "source": [
    "## Extension"
   ]
  },
  {
   "cell_type": "code",
   "execution_count": null,
   "id": "b3d142c8-fc24-407d-8f8a-d87d932d3056",
   "metadata": {},
   "outputs": [],
   "source": []
  }
 ],
 "metadata": {
  "kernelspec": {
   "display_name": "Python 3 + Jaspy",
   "language": "python",
   "name": "jaspy"
  },
  "language_info": {
   "codemirror_mode": {
    "name": "ipython",
    "version": 3
   },
   "file_extension": ".py",
   "mimetype": "text/x-python",
   "name": "python",
   "nbconvert_exporter": "python",
   "pygments_lexer": "ipython3",
   "version": "3.11.9"
  }
 },
 "nbformat": 4,
 "nbformat_minor": 5
}
