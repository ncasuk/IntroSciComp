{
 "cells": [
  {
   "cell_type": "markdown",
   "id": "14c74192-43d6-47df-9a2f-78840209af83",
   "metadata": {},
   "source": [
    "This is the notebook that was used for the recap session for the numpy material\n",
    "\n",
    "Note that when doing the recap, some commands were edited and re-evaluated a number of times to demonstrate different options, so this is just a snapshot of however it ended up. It doesn't show everything that was tried."
   ]
  },
  {
   "cell_type": "code",
   "execution_count": null,
   "id": "9f93e8e0-6485-44e2-9d66-00d8089604d6",
   "metadata": {},
   "outputs": [],
   "source": [
    "import numpy as np"
   ]
  },
  {
   "cell_type": "code",
   "execution_count": 8,
   "id": "7f51863a-ceea-4be9-b058-b951b9d77c4a",
   "metadata": {},
   "outputs": [
    {
     "name": "stdout",
     "output_type": "stream",
     "text": [
      "[[  0.    1.    2.   31. ]\n",
      " [ 12.4 467.   12.    2. ]] float64\n"
     ]
    }
   ],
   "source": [
    "f = np.array([[0, 1, 2, 31], [12.4,467, 12,2]])\n",
    "print(f, f.dtype)"
   ]
  },
  {
   "cell_type": "code",
   "execution_count": 10,
   "id": "03027fd1-e825-4022-94c6-7ef89c7a506c",
   "metadata": {},
   "outputs": [
    {
     "data": {
      "text/plain": [
       "array([[1., 1., 1., 1., 1.],\n",
       "       [1., 1., 1., 1., 1.],\n",
       "       [1., 1., 1., 1., 1.],\n",
       "       [1., 1., 1., 1., 1.]])"
      ]
     },
     "execution_count": 10,
     "metadata": {},
     "output_type": "execute_result"
    }
   ],
   "source": [
    "np.ones([4,5])"
   ]
  },
  {
   "cell_type": "code",
   "execution_count": 12,
   "id": "75707506-6b9d-4835-8cc8-ba040742bdc2",
   "metadata": {},
   "outputs": [
    {
     "data": {
      "text/plain": [
       "array([ 0.,  1.,  2.,  3.,  4.,  5.,  6.,  7.,  8.,  9., 10., 11., 12.,\n",
       "       13., 14., 15., 16., 17., 18., 19., 20., 21., 22., 23., 24., 25.,\n",
       "       26., 27., 28., 29., 30., 31., 32., 33., 34., 35., 36., 37., 38.,\n",
       "       39.])"
      ]
     },
     "execution_count": 12,
     "metadata": {},
     "output_type": "execute_result"
    }
   ],
   "source": [
    "np.arange(40,dtype=float)"
   ]
  },
  {
   "cell_type": "code",
   "execution_count": 14,
   "id": "12bfc906-f497-4293-a944-e45876e150ef",
   "metadata": {},
   "outputs": [],
   "source": [
    "g = np.array((23,673,12,12))"
   ]
  },
  {
   "cell_type": "code",
   "execution_count": 15,
   "id": "5f02bfd1-9b42-405d-90f9-9d34ff76993e",
   "metadata": {},
   "outputs": [
    {
     "data": {
      "text/plain": [
       "array([ 23, 673,  12,  12])"
      ]
     },
     "execution_count": 15,
     "metadata": {},
     "output_type": "execute_result"
    }
   ],
   "source": [
    "g"
   ]
  },
  {
   "cell_type": "code",
   "execution_count": 16,
   "id": "2e5c21d7-545c-42ab-9ca0-7565cf00321a",
   "metadata": {},
   "outputs": [
    {
     "data": {
      "text/plain": [
       "12"
      ]
     },
     "execution_count": 16,
     "metadata": {},
     "output_type": "execute_result"
    }
   ],
   "source": [
    "g[2]"
   ]
  },
  {
   "cell_type": "code",
   "execution_count": 17,
   "id": "0bd5f6c4-1a0c-4768-81ab-1b904eafdbc7",
   "metadata": {},
   "outputs": [
    {
     "name": "stdout",
     "output_type": "stream",
     "text": [
      "[ 23 673   4  12]\n"
     ]
    }
   ],
   "source": [
    "g[2] = 4\n",
    "print(g)"
   ]
  },
  {
   "cell_type": "code",
   "execution_count": 20,
   "id": "4b19b1fc-5dd5-4045-8bc3-e3a21930dffb",
   "metadata": {},
   "outputs": [],
   "source": [
    "g[1:4] = 10"
   ]
  },
  {
   "cell_type": "code",
   "execution_count": 21,
   "id": "94429618-fc83-4901-a6d2-1d7272950c72",
   "metadata": {},
   "outputs": [
    {
     "data": {
      "text/plain": [
       "array([23, 10, 10, 10])"
      ]
     },
     "execution_count": 21,
     "metadata": {},
     "output_type": "execute_result"
    }
   ],
   "source": [
    "g"
   ]
  },
  {
   "cell_type": "code",
   "execution_count": 22,
   "id": "160d77b1-df5e-4bb7-bec7-76c59d2bfac6",
   "metadata": {},
   "outputs": [
    {
     "data": {
      "text/plain": [
       "array([[  0. ,   1. ,   2. ,  31. ],\n",
       "       [ 12.4, 467. ,  12. ,   2. ]])"
      ]
     },
     "execution_count": 22,
     "metadata": {},
     "output_type": "execute_result"
    }
   ],
   "source": [
    "f"
   ]
  },
  {
   "cell_type": "code",
   "execution_count": 24,
   "id": "6839d1b9-9e6e-4fb3-8fde-df303d8eb2eb",
   "metadata": {},
   "outputs": [
    {
     "data": {
      "text/plain": [
       "1.0"
      ]
     },
     "execution_count": 24,
     "metadata": {},
     "output_type": "execute_result"
    }
   ],
   "source": [
    "f[0, 1]"
   ]
  },
  {
   "cell_type": "code",
   "execution_count": 26,
   "id": "a1241138-35bc-4978-a0ad-b65351296c7f",
   "metadata": {},
   "outputs": [],
   "source": [
    "f[1, 1:3] = [3,5]"
   ]
  },
  {
   "cell_type": "code",
   "execution_count": 27,
   "id": "32998c1b-0b47-44d1-8438-4b209615e00f",
   "metadata": {},
   "outputs": [
    {
     "data": {
      "text/plain": [
       "array([[ 0. ,  1. ,  2. , 31. ],\n",
       "       [12.4,  3. ,  5. ,  2. ]])"
      ]
     },
     "execution_count": 27,
     "metadata": {},
     "output_type": "execute_result"
    }
   ],
   "source": [
    "f"
   ]
  },
  {
   "cell_type": "code",
   "execution_count": 28,
   "id": "9c5d9c1f-f048-41d5-a127-e58134f86114",
   "metadata": {},
   "outputs": [
    {
     "data": {
      "text/plain": [
       "8"
      ]
     },
     "execution_count": 28,
     "metadata": {},
     "output_type": "execute_result"
    }
   ],
   "source": [
    "np.size(f)"
   ]
  },
  {
   "cell_type": "code",
   "execution_count": 29,
   "id": "e328980f-37bd-4ddd-9645-daedb65333c1",
   "metadata": {},
   "outputs": [
    {
     "data": {
      "text/plain": [
       "2"
      ]
     },
     "execution_count": 29,
     "metadata": {},
     "output_type": "execute_result"
    }
   ],
   "source": [
    "len(f)"
   ]
  },
  {
   "cell_type": "code",
   "execution_count": 30,
   "id": "42fd2077-50ea-4f8e-92d6-2016bc0e38b1",
   "metadata": {},
   "outputs": [
    {
     "data": {
      "text/plain": [
       "(2, 4)"
      ]
     },
     "execution_count": 30,
     "metadata": {},
     "output_type": "execute_result"
    }
   ],
   "source": [
    "np.shape(f)"
   ]
  },
  {
   "cell_type": "code",
   "execution_count": 31,
   "id": "470b60c8-9acf-4e55-b996-25354018e8ce",
   "metadata": {},
   "outputs": [
    {
     "data": {
      "text/plain": [
       "(2, 4)"
      ]
     },
     "execution_count": 31,
     "metadata": {},
     "output_type": "execute_result"
    }
   ],
   "source": [
    "f.shape"
   ]
  },
  {
   "cell_type": "code",
   "execution_count": 32,
   "id": "97adc725-d8be-4ba9-af86-bd6bfd7a613c",
   "metadata": {},
   "outputs": [
    {
     "data": {
      "text/plain": [
       "31.0"
      ]
     },
     "execution_count": 32,
     "metadata": {},
     "output_type": "execute_result"
    }
   ],
   "source": [
    "f.max()"
   ]
  },
  {
   "cell_type": "code",
   "execution_count": 33,
   "id": "7c3d9c3e-fa1a-47b9-83bb-cb0ceca8c31e",
   "metadata": {},
   "outputs": [
    {
     "data": {
      "text/plain": [
       "31.0"
      ]
     },
     "execution_count": 33,
     "metadata": {},
     "output_type": "execute_result"
    }
   ],
   "source": [
    "np.max(f)"
   ]
  },
  {
   "cell_type": "code",
   "execution_count": 34,
   "id": "135f390f-844e-4ff6-8130-5e72187a5668",
   "metadata": {},
   "outputs": [
    {
     "data": {
      "text/plain": [
       "7.05"
      ]
     },
     "execution_count": 34,
     "metadata": {},
     "output_type": "execute_result"
    }
   ],
   "source": [
    "np.average(f)"
   ]
  },
  {
   "cell_type": "code",
   "execution_count": 35,
   "id": "559a6abb-aa55-40fb-9cae-b431b7e29081",
   "metadata": {},
   "outputs": [
    {
     "ename": "AttributeError",
     "evalue": "'numpy.ndarray' object has no attribute 'average'",
     "output_type": "error",
     "traceback": [
      "\u001b[0;31m---------------------------------------------------------------------------\u001b[0m",
      "\u001b[0;31mAttributeError\u001b[0m                            Traceback (most recent call last)",
      "Input \u001b[0;32mIn [35]\u001b[0m, in \u001b[0;36m<cell line: 1>\u001b[0;34m()\u001b[0m\n\u001b[0;32m----> 1\u001b[0m \u001b[43mf\u001b[49m\u001b[38;5;241;43m.\u001b[39;49m\u001b[43maverage\u001b[49m()\n",
      "\u001b[0;31mAttributeError\u001b[0m: 'numpy.ndarray' object has no attribute 'average'"
     ]
    }
   ],
   "source": [
    "f.average()"
   ]
  },
  {
   "cell_type": "code",
   "execution_count": 36,
   "id": "5b8e6528-d265-4a5e-818c-0553ec270560",
   "metadata": {},
   "outputs": [
    {
     "data": {
      "text/plain": [
       "array([ 0. ,  1. ,  2. , 31. , 12.4,  3. ,  5. ,  2. ])"
      ]
     },
     "execution_count": 36,
     "metadata": {},
     "output_type": "execute_result"
    }
   ],
   "source": [
    "f.ravel()"
   ]
  },
  {
   "cell_type": "code",
   "execution_count": 37,
   "id": "a8fd37d7-802e-4c43-8467-87d5ab0b03d2",
   "metadata": {},
   "outputs": [
    {
     "data": {
      "text/plain": [
       "array([ 0. ,  0. ,  0. ,  0. ,  0. ,  1. ,  1. ,  1. ,  1. ,  1. ,  2. ,\n",
       "        2. ,  2. ,  2. ,  2. , 31. , 31. , 31. , 31. , 31. , 12.4, 12.4,\n",
       "       12.4, 12.4, 12.4,  3. ,  3. ,  3. ,  3. ,  3. ,  5. ,  5. ,  5. ,\n",
       "        5. ,  5. ,  2. ,  2. ,  2. ,  2. ,  2. ])"
      ]
     },
     "execution_count": 37,
     "metadata": {},
     "output_type": "execute_result"
    }
   ],
   "source": [
    "f.repeat(5)"
   ]
  },
  {
   "cell_type": "code",
   "execution_count": 39,
   "id": "8d9ed57d-9060-44de-adc9-a2bb3030eed7",
   "metadata": {},
   "outputs": [
    {
     "data": {
      "text/plain": [
       "array([[ 0. ,  0. ,  0. ,  1. ,  1. ,  1. ,  2. ,  2. ,  2. , 31. , 31. ,\n",
       "        31. ],\n",
       "       [12.4, 12.4, 12.4,  3. ,  3. ,  3. ,  5. ,  5. ,  5. ,  2. ,  2. ,\n",
       "         2. ]])"
      ]
     },
     "execution_count": 39,
     "metadata": {},
     "output_type": "execute_result"
    }
   ],
   "source": [
    "np.repeat(f, 3, axis=1)"
   ]
  },
  {
   "cell_type": "code",
   "execution_count": 40,
   "id": "e63bdb52-7a36-4399-8d25-6d33adf3ae8d",
   "metadata": {},
   "outputs": [],
   "source": [
    "x = np.arange(4) + 10"
   ]
  },
  {
   "cell_type": "code",
   "execution_count": 41,
   "id": "d1951eb9-8843-42b3-8280-60a256e6480f",
   "metadata": {},
   "outputs": [],
   "source": [
    "y = np.arange(3) + 20"
   ]
  },
  {
   "cell_type": "code",
   "execution_count": 42,
   "id": "f90ea32b-2f91-4cda-ac83-425f6df9309a",
   "metadata": {},
   "outputs": [
    {
     "data": {
      "text/plain": [
       "array([10, 11, 12, 13])"
      ]
     },
     "execution_count": 42,
     "metadata": {},
     "output_type": "execute_result"
    }
   ],
   "source": [
    "x"
   ]
  },
  {
   "cell_type": "code",
   "execution_count": 43,
   "id": "b8b793d8-b0e8-47b8-ae49-42e5a43f3050",
   "metadata": {},
   "outputs": [
    {
     "data": {
      "text/plain": [
       "array([20, 21, 22])"
      ]
     },
     "execution_count": 43,
     "metadata": {},
     "output_type": "execute_result"
    }
   ],
   "source": [
    "y"
   ]
  },
  {
   "cell_type": "code",
   "execution_count": 44,
   "id": "910e7f2f-ef20-461c-aab0-80b1b1cf1e9d",
   "metadata": {},
   "outputs": [],
   "source": [
    "x2d, y2d = np.meshgrid(x, y)"
   ]
  },
  {
   "cell_type": "code",
   "execution_count": 45,
   "id": "fc8b9e6c-3d56-4aca-b164-a445b1d3aa3f",
   "metadata": {},
   "outputs": [
    {
     "data": {
      "text/plain": [
       "array([[10, 11, 12, 13],\n",
       "       [10, 11, 12, 13],\n",
       "       [10, 11, 12, 13]])"
      ]
     },
     "execution_count": 45,
     "metadata": {},
     "output_type": "execute_result"
    }
   ],
   "source": [
    "x2d"
   ]
  },
  {
   "cell_type": "code",
   "execution_count": 46,
   "id": "a7ac46bb-d55d-4c9c-b704-78949b3ab92c",
   "metadata": {},
   "outputs": [
    {
     "data": {
      "text/plain": [
       "array([[20, 20, 20, 20],\n",
       "       [21, 21, 21, 21],\n",
       "       [22, 22, 22, 22]])"
      ]
     },
     "execution_count": 46,
     "metadata": {},
     "output_type": "execute_result"
    }
   ],
   "source": [
    "y2d"
   ]
  },
  {
   "cell_type": "code",
   "execution_count": 48,
   "id": "da9012c0-cc2b-44ce-b6ac-b26c26d7596f",
   "metadata": {},
   "outputs": [
    {
     "data": {
      "text/plain": [
       "array([[200, 220, 240, 260],\n",
       "       [210, 231, 252, 273],\n",
       "       [220, 242, 264, 286]])"
      ]
     },
     "execution_count": 48,
     "metadata": {},
     "output_type": "execute_result"
    }
   ],
   "source": [
    "x2d * y2d"
   ]
  },
  {
   "cell_type": "code",
   "execution_count": 52,
   "id": "947050f5-3a07-4ac6-972a-ba7f058a5513",
   "metadata": {},
   "outputs": [],
   "source": [
    "cond = np.logical_and(y2d > 20, y2d < 22)"
   ]
  },
  {
   "cell_type": "code",
   "execution_count": 53,
   "id": "84db7326-d44d-4661-a075-179642638a5e",
   "metadata": {},
   "outputs": [
    {
     "data": {
      "text/plain": [
       "array([[False, False, False, False],\n",
       "       [ True,  True,  True,  True],\n",
       "       [False, False, False, False]])"
      ]
     },
     "execution_count": 53,
     "metadata": {},
     "output_type": "execute_result"
    }
   ],
   "source": [
    "cond"
   ]
  },
  {
   "cell_type": "code",
   "execution_count": 54,
   "id": "278c695d-b6dc-45b1-a0b0-1b392fe80b38",
   "metadata": {},
   "outputs": [
    {
     "data": {
      "text/plain": [
       "array([[-1, -1, -1, -1],\n",
       "       [10, 11, 12, 13],\n",
       "       [-1, -1, -1, -1]])"
      ]
     },
     "execution_count": 54,
     "metadata": {},
     "output_type": "execute_result"
    }
   ],
   "source": [
    "np.where(cond, x2d, -1)"
   ]
  },
  {
   "cell_type": "code",
   "execution_count": 55,
   "id": "74a61dd0-01f5-496c-8f38-361dcaba685b",
   "metadata": {},
   "outputs": [],
   "source": [
    "import math"
   ]
  },
  {
   "cell_type": "code",
   "execution_count": 56,
   "id": "337025c6-6a9d-475f-a359-508ae95bd0fa",
   "metadata": {},
   "outputs": [
    {
     "data": {
      "text/plain": [
       "array([[ 0. ,  1. ,  2. , 31. ],\n",
       "       [12.4,  3. ,  5. ,  2. ]])"
      ]
     },
     "execution_count": 56,
     "metadata": {},
     "output_type": "execute_result"
    }
   ],
   "source": [
    "f"
   ]
  },
  {
   "cell_type": "code",
   "execution_count": 57,
   "id": "86d6ca82-65f7-4160-a7c1-5bc946915392",
   "metadata": {},
   "outputs": [
    {
     "data": {
      "text/plain": [
       "242801.61749832364"
      ]
     },
     "execution_count": 57,
     "metadata": {},
     "output_type": "execute_result"
    }
   ],
   "source": [
    "math.exp(12.4)"
   ]
  },
  {
   "cell_type": "code",
   "execution_count": 58,
   "id": "f9c67d68-2983-4153-8f1d-ec003341e1a6",
   "metadata": {},
   "outputs": [
    {
     "data": {
      "text/plain": [
       "array([[1.00000000e+00, 2.71828183e+00, 7.38905610e+00, 2.90488497e+13],\n",
       "       [2.42801617e+05, 2.00855369e+01, 1.48413159e+02, 7.38905610e+00]])"
      ]
     },
     "execution_count": 58,
     "metadata": {},
     "output_type": "execute_result"
    }
   ],
   "source": [
    "np.exp(f)"
   ]
  },
  {
   "cell_type": "code",
   "execution_count": 61,
   "id": "b50aa874-599a-4d9d-8441-9f7c7c60b589",
   "metadata": {},
   "outputs": [],
   "source": [
    "import numpy.ma as MA"
   ]
  },
  {
   "cell_type": "code",
   "execution_count": 66,
   "id": "4a4495b5-08b6-4563-9723-bbb711156dcf",
   "metadata": {},
   "outputs": [],
   "source": [
    "a = MA.masked_array([2,3,4,5,6],mask=[True,True,False,False,False],dtype=float)"
   ]
  },
  {
   "cell_type": "code",
   "execution_count": 67,
   "id": "f49841c0-3221-4a2f-adde-57569b3b34e8",
   "metadata": {},
   "outputs": [
    {
     "data": {
      "text/plain": [
       "masked_array(data=[--, --, 4.0, 5.0, 6.0],\n",
       "             mask=[ True,  True, False, False, False],\n",
       "       fill_value=1e+20)"
      ]
     },
     "execution_count": 67,
     "metadata": {},
     "output_type": "execute_result"
    }
   ],
   "source": [
    "a"
   ]
  },
  {
   "cell_type": "code",
   "execution_count": 68,
   "id": "eb97e8a3-8022-4224-be5c-37e2994bad1b",
   "metadata": {},
   "outputs": [],
   "source": [
    "b = MA.masked_array([12,13,14,15,16],mask=[True,False,True,False,False],dtype=float)"
   ]
  },
  {
   "cell_type": "code",
   "execution_count": 69,
   "id": "a543eac2-f4fc-4514-885f-2f02f0c00f96",
   "metadata": {},
   "outputs": [
    {
     "data": {
      "text/plain": [
       "masked_array(data=[--, 13.0, --, 15.0, 16.0],\n",
       "             mask=[ True, False,  True, False, False],\n",
       "       fill_value=1e+20)"
      ]
     },
     "execution_count": 69,
     "metadata": {},
     "output_type": "execute_result"
    }
   ],
   "source": [
    "b"
   ]
  },
  {
   "cell_type": "code",
   "execution_count": 70,
   "id": "490d3740-a3f1-4cb6-b09c-634220af5829",
   "metadata": {},
   "outputs": [
    {
     "data": {
      "text/plain": [
       "masked_array(data=[--, --, 8.0, 10.0, 12.0],\n",
       "             mask=[ True,  True, False, False, False],\n",
       "       fill_value=1e+20)"
      ]
     },
     "execution_count": 70,
     "metadata": {},
     "output_type": "execute_result"
    }
   ],
   "source": [
    "a * 2"
   ]
  },
  {
   "cell_type": "code",
   "execution_count": 71,
   "id": "e87a8268-d9d2-43e4-bd70-512380cd6c5a",
   "metadata": {},
   "outputs": [
    {
     "data": {
      "text/plain": [
       "masked_array(data=[--, --, --, 20.0, 22.0],\n",
       "             mask=[ True,  True,  True, False, False],\n",
       "       fill_value=1e+20)"
      ]
     },
     "execution_count": 71,
     "metadata": {},
     "output_type": "execute_result"
    }
   ],
   "source": [
    "a + b"
   ]
  },
  {
   "cell_type": "code",
   "execution_count": 73,
   "id": "fdf10080-276e-4a76-a642-c2d172dee2a1",
   "metadata": {},
   "outputs": [
    {
     "name": "stdout",
     "output_type": "stream",
     "text": [
      "<class 'numpy.ma.core.MaskedArray'>\n",
      "<class 'numpy.ndarray'>\n"
     ]
    }
   ],
   "source": [
    "print(type(a))\n",
    "print(type(a.filled()))"
   ]
  },
  {
   "cell_type": "code",
   "execution_count": null,
   "id": "6c0ee13b-4214-4f77-9c58-c24af88762a2",
   "metadata": {},
   "outputs": [],
   "source": []
  }
 ],
 "metadata": {
  "kernelspec": {
   "display_name": "Python 3 + Jaspy",
   "language": "python",
   "name": "jaspy"
  },
  "language_info": {
   "codemirror_mode": {
    "name": "ipython",
    "version": 3
   },
   "file_extension": ".py",
   "mimetype": "text/x-python",
   "name": "python",
   "nbconvert_exporter": "python",
   "pygments_lexer": "ipython3",
   "version": "3.10.5"
  }
 },
 "nbformat": 4,
 "nbformat_minor": 5
}
