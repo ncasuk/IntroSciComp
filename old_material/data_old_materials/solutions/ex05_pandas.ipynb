{
 "cells": [
  {
   "cell_type": "markdown",
   "id": "1a4fb627-2190-43ac-b4b5-93352cd23aa4",
   "metadata": {},
   "source": [
    "# Working with Pandas DataFrames in Python\n",
    "\n",
    "Part of: Data Analysis and Visualization in Python for EcologistsData Analysis and Visualization in Python for Ecologists (**Data Carpentry**)\n",
    "\n",
    "From: https://datacarpentry.org/python-ecology-lesson/02-starting-with-data/index.htmlhttps://datacarpentry.org/python-ecology-lesson/02-starting-with-data/index.html\n",
    "\n",
    "teaching: 30 mins\n",
    "exercises: 30 mins\n",
    "\n",
    "Questions:\n",
    "- \"How can I import data in Python?\"\n",
    "- \"What is Pandas?\"\n",
    "- \"Why should I use Pandas to work with data?\"\n",
    "    \n",
    "Objectives:\n",
    "- \"Navigate the workshop directory and download a dataset.\"\n",
    "- \"Explain what a library is and what libraries are used for.\"\n",
    "- \"Describe what the Python Data Analysis Library (Pandas) is.\"\n",
    "- \"Load the Python Data Analysis Library (Pandas).\"\n",
    "- \"Use `read_csv` to read tabular data into Python.\"\n",
    "- \"Describe what a DataFrame is in Python.\"\n",
    "- \"Access and summarize data stored in a DataFrame.\"\n",
    "- \"Define indexing as it relates to data structures.\"\n",
    "- \"Perform basic mathematical operations and summary statistics on data in a Pandas DataFrame.\"\n",
    "- \"Create simple plots.\"\n",
    "    \n",
    "Key points:\n",
    "- \"Libraries enable us to extend the functionality of Python.\"\n",
    "- \"Pandas is a popular library for working with data.\"\n",
    "- \"A Dataframe is a Pandas data structure that allows one to access data by column (name or index) or row.\"\n",
    "- \"Aggregating data using the `groupby()` function enables you to generate useful summaries of data quickly.\"\n",
    "- \"Plots can be created from DataFrames or subsets of data that have been generated with `groupby()`.\"\n",
    "    \n"
   ]
  },
  {
   "cell_type": "markdown",
   "id": "3c62fdbe-6cd7-473a-b1d8-288bd5dec187",
   "metadata": {},
   "source": [
    "We can automate the process of performing data manipulations in Python. It's efficient to spend time\n",
    "building the code to perform these tasks because once it's built, we can use it\n",
    "over and over on different datasets that use a similar format. This makes our\n",
    "methods easily reproducible. We can also easily share our code with colleagues\n",
    "and they can replicate the same analysis.\n",
    "\n",
    "### Starting in the same spot\n",
    "\n",
    "To help the lesson run smoothly, let's ensure everyone is in the same directory.\n",
    "This should help us avoid path and file name issues. At this time please\n",
    "navigate to the workshop directory. If you are working in Jupyter Notebook be sure\n",
    "that you start your notebook in the workshop directory.\n",
    "\n",
    "A quick aside that there are Python libraries like [OS Library][os-lib] that can work with our\n",
    "directory structure, however, that is not our focus today."
   ]
  },
  {
   "cell_type": "markdown",
   "id": "d3fd3a90-3455-4df0-a4f4-9a327d81b177",
   "metadata": {},
   "source": [
    "### Our Data\n",
    "\n",
    "For this lesson, we will be using the Portal Teaching data, a subset of the data\n",
    "from Ernst et al\n",
    "[Long-term monitoring and experimental manipulation of a Chihuahuan Desert ecosystem near Portal,\n",
    "Arizona, USA][ernst].\n",
    "\n",
    "We will be using files from the [Portal Project Teaching Database][pptd].\n",
    "This section will use the `surveys.csv` file that can be downloaded here:\n",
    "[https://ndownloader.figshare.com/files/2292172][figshare-ndownloader]\n",
    "\n",
    "We are studying the species and weight of animals caught in sites in our study\n",
    "area. The dataset is stored as a `.csv` file: each row holds information for a\n",
    "single animal, and the columns represent:\n",
    "\n",
    "| Column           | Description                        |\n",
    "|------------------|------------------------------------|\n",
    "| record_id        | Unique id for the observation      |\n",
    "| month            | month of observation               |\n",
    "| day              | day of observation                 |\n",
    "| year             | year of observation                |\n",
    "| plot_id          | ID of a particular site            |\n",
    "| species_id       | 2-letter code                      |\n",
    "| sex              | sex of animal (\"M\", \"F\")           |\n",
    "| hindfoot_length  | length of the hindfoot in mm       |\n",
    "| weight           | weight of the animal in grams      |\n",
    "\n",
    "\n",
    "The first few rows of our first file look like this:\n",
    "\n",
    "```\n",
    "record_id,month,day,year,plot_id,species_id,sex,hindfoot_length,weight\n",
    "1,7,16,1977,2,NL,M,32,\n",
    "2,7,16,1977,3,NL,M,33,\n",
    "3,7,16,1977,2,DM,F,37,\n",
    "4,7,16,1977,7,DM,M,36,\n",
    "5,7,16,1977,3,DM,M,35,\n",
    "6,7,16,1977,1,PF,M,14,\n",
    "7,7,16,1977,2,PE,F,,\n",
    "8,7,16,1977,1,DM,M,37,\n",
    "9,7,16,1977,1,DM,F,34,\n",
    "```\n"
   ]
  },
  {
   "cell_type": "code",
   "execution_count": 1,
   "id": "0e8a0333-7d52-4739-a9d7-ee2388a07033",
   "metadata": {},
   "outputs": [],
   "source": [
    "# Download the file\n",
    "import requests\n",
    "url = \"https://ndownloader.figshare.com/files/2292172\"\n",
    "content = requests.get(url).text\n",
    "\n",
    "datafile = \"surveys.csv\"\n",
    "with open(datafile, \"w\") as csv:\n",
    "    csv.write(content)"
   ]
  },
  {
   "cell_type": "code",
   "execution_count": 2,
   "id": "f73c654d-65fc-40bc-a02f-b708eec455dd",
   "metadata": {},
   "outputs": [],
   "source": [
    "import pandas as pd"
   ]
  },
  {
   "cell_type": "markdown",
   "id": "6c9ee6ef-0b55-404e-8757-678e7a760dd1",
   "metadata": {},
   "source": [
    "Each time we call a function that's in a library, we use the syntax\n",
    "`LibraryName.FunctionName`. Adding the library name with a `.` before the\n",
    "function name tells Python where to find the function. In the example above, we\n",
    "have imported Pandas as `pd`. This means we don't have to type out `pandas` each\n",
    "time we call a Pandas function.\n",
    "\n",
    "\n",
    "# Reading CSV Data Using Pandas\n",
    "\n",
    "We will begin by locating and reading our survey data which are in CSV format. CSV stands for\n",
    "Comma-Separated Values and is a common way to store formatted data. Other symbols may also be used, so\n",
    "you might see tab-separated, colon-separated or space separated files. It is quite easy to replace\n",
    "one separator with another, to match your application. The first line in the file often has headers\n",
    "to explain what is in each column. CSV (and other separators) make it easy to share data, and can be\n",
    "imported and exported from many applications, including Microsoft Excel. For more details on CSV\n",
    "files, see the [Data Organisation in Spreadsheets][spreadsheet-lesson5] lesson.\n",
    "We can use Pandas' `read_csv` function to pull the file directly into a [DataFrame][pd-dataframe].\n",
    "\n",
    "## So What's a DataFrame?\n",
    "\n",
    "A DataFrame is a 2-dimensional data structure that can store data of different\n",
    "types (including characters, integers, floating point values, factors and more)\n",
    "in columns. It is similar to a spreadsheet or an SQL table or the `data.frame` in\n",
    "R. A DataFrame always has an index (0-based). An index refers to the position of\n",
    "an element in the data structure."
   ]
  },
  {
   "cell_type": "code",
   "execution_count": 3,
   "id": "eb36110d-ebc1-4376-8e13-abe486c128f9",
   "metadata": {},
   "outputs": [
    {
     "data": {
      "text/html": [
       "<div>\n",
       "<style scoped>\n",
       "    .dataframe tbody tr th:only-of-type {\n",
       "        vertical-align: middle;\n",
       "    }\n",
       "\n",
       "    .dataframe tbody tr th {\n",
       "        vertical-align: top;\n",
       "    }\n",
       "\n",
       "    .dataframe thead th {\n",
       "        text-align: right;\n",
       "    }\n",
       "</style>\n",
       "<table border=\"1\" class=\"dataframe\">\n",
       "  <thead>\n",
       "    <tr style=\"text-align: right;\">\n",
       "      <th></th>\n",
       "      <th>record_id</th>\n",
       "      <th>month</th>\n",
       "      <th>day</th>\n",
       "      <th>year</th>\n",
       "      <th>plot_id</th>\n",
       "      <th>species_id</th>\n",
       "      <th>sex</th>\n",
       "      <th>hindfoot_length</th>\n",
       "      <th>weight</th>\n",
       "    </tr>\n",
       "  </thead>\n",
       "  <tbody>\n",
       "    <tr>\n",
       "      <th>0</th>\n",
       "      <td>1</td>\n",
       "      <td>7</td>\n",
       "      <td>16</td>\n",
       "      <td>1977</td>\n",
       "      <td>2</td>\n",
       "      <td>NL</td>\n",
       "      <td>M</td>\n",
       "      <td>32.0</td>\n",
       "      <td>NaN</td>\n",
       "    </tr>\n",
       "    <tr>\n",
       "      <th>1</th>\n",
       "      <td>2</td>\n",
       "      <td>7</td>\n",
       "      <td>16</td>\n",
       "      <td>1977</td>\n",
       "      <td>3</td>\n",
       "      <td>NL</td>\n",
       "      <td>M</td>\n",
       "      <td>33.0</td>\n",
       "      <td>NaN</td>\n",
       "    </tr>\n",
       "    <tr>\n",
       "      <th>2</th>\n",
       "      <td>3</td>\n",
       "      <td>7</td>\n",
       "      <td>16</td>\n",
       "      <td>1977</td>\n",
       "      <td>2</td>\n",
       "      <td>DM</td>\n",
       "      <td>F</td>\n",
       "      <td>37.0</td>\n",
       "      <td>NaN</td>\n",
       "    </tr>\n",
       "    <tr>\n",
       "      <th>3</th>\n",
       "      <td>4</td>\n",
       "      <td>7</td>\n",
       "      <td>16</td>\n",
       "      <td>1977</td>\n",
       "      <td>7</td>\n",
       "      <td>DM</td>\n",
       "      <td>M</td>\n",
       "      <td>36.0</td>\n",
       "      <td>NaN</td>\n",
       "    </tr>\n",
       "    <tr>\n",
       "      <th>4</th>\n",
       "      <td>5</td>\n",
       "      <td>7</td>\n",
       "      <td>16</td>\n",
       "      <td>1977</td>\n",
       "      <td>3</td>\n",
       "      <td>DM</td>\n",
       "      <td>M</td>\n",
       "      <td>35.0</td>\n",
       "      <td>NaN</td>\n",
       "    </tr>\n",
       "    <tr>\n",
       "      <th>...</th>\n",
       "      <td>...</td>\n",
       "      <td>...</td>\n",
       "      <td>...</td>\n",
       "      <td>...</td>\n",
       "      <td>...</td>\n",
       "      <td>...</td>\n",
       "      <td>...</td>\n",
       "      <td>...</td>\n",
       "      <td>...</td>\n",
       "    </tr>\n",
       "    <tr>\n",
       "      <th>35544</th>\n",
       "      <td>35545</td>\n",
       "      <td>12</td>\n",
       "      <td>31</td>\n",
       "      <td>2002</td>\n",
       "      <td>15</td>\n",
       "      <td>AH</td>\n",
       "      <td>NaN</td>\n",
       "      <td>NaN</td>\n",
       "      <td>NaN</td>\n",
       "    </tr>\n",
       "    <tr>\n",
       "      <th>35545</th>\n",
       "      <td>35546</td>\n",
       "      <td>12</td>\n",
       "      <td>31</td>\n",
       "      <td>2002</td>\n",
       "      <td>15</td>\n",
       "      <td>AH</td>\n",
       "      <td>NaN</td>\n",
       "      <td>NaN</td>\n",
       "      <td>NaN</td>\n",
       "    </tr>\n",
       "    <tr>\n",
       "      <th>35546</th>\n",
       "      <td>35547</td>\n",
       "      <td>12</td>\n",
       "      <td>31</td>\n",
       "      <td>2002</td>\n",
       "      <td>10</td>\n",
       "      <td>RM</td>\n",
       "      <td>F</td>\n",
       "      <td>15.0</td>\n",
       "      <td>14.0</td>\n",
       "    </tr>\n",
       "    <tr>\n",
       "      <th>35547</th>\n",
       "      <td>35548</td>\n",
       "      <td>12</td>\n",
       "      <td>31</td>\n",
       "      <td>2002</td>\n",
       "      <td>7</td>\n",
       "      <td>DO</td>\n",
       "      <td>M</td>\n",
       "      <td>36.0</td>\n",
       "      <td>51.0</td>\n",
       "    </tr>\n",
       "    <tr>\n",
       "      <th>35548</th>\n",
       "      <td>35549</td>\n",
       "      <td>12</td>\n",
       "      <td>31</td>\n",
       "      <td>2002</td>\n",
       "      <td>5</td>\n",
       "      <td>NaN</td>\n",
       "      <td>NaN</td>\n",
       "      <td>NaN</td>\n",
       "      <td>NaN</td>\n",
       "    </tr>\n",
       "  </tbody>\n",
       "</table>\n",
       "<p>35549 rows × 9 columns</p>\n",
       "</div>"
      ],
      "text/plain": [
       "       record_id  month  day  year  plot_id species_id  sex  hindfoot_length  \\\n",
       "0              1      7   16  1977        2         NL    M             32.0   \n",
       "1              2      7   16  1977        3         NL    M             33.0   \n",
       "2              3      7   16  1977        2         DM    F             37.0   \n",
       "3              4      7   16  1977        7         DM    M             36.0   \n",
       "4              5      7   16  1977        3         DM    M             35.0   \n",
       "...          ...    ...  ...   ...      ...        ...  ...              ...   \n",
       "35544      35545     12   31  2002       15         AH  NaN              NaN   \n",
       "35545      35546     12   31  2002       15         AH  NaN              NaN   \n",
       "35546      35547     12   31  2002       10         RM    F             15.0   \n",
       "35547      35548     12   31  2002        7         DO    M             36.0   \n",
       "35548      35549     12   31  2002        5        NaN  NaN              NaN   \n",
       "\n",
       "       weight  \n",
       "0         NaN  \n",
       "1         NaN  \n",
       "2         NaN  \n",
       "3         NaN  \n",
       "4         NaN  \n",
       "...       ...  \n",
       "35544     NaN  \n",
       "35545     NaN  \n",
       "35546    14.0  \n",
       "35547    51.0  \n",
       "35548     NaN  \n",
       "\n",
       "[35549 rows x 9 columns]"
      ]
     },
     "execution_count": 3,
     "metadata": {},
     "output_type": "execute_result"
    }
   ],
   "source": [
    "# Note that pd.read_csv is used because we imported pandas as pd\n",
    "pd.read_csv(datafile)"
   ]
  },
  {
   "cell_type": "markdown",
   "id": "3686eebc-e266-4496-99ff-475f69ec72ce",
   "metadata": {},
   "source": [
    "We can see that there were 35,549 rows parsed. Each row has 9\n",
    "columns. The first column is the index of the DataFrame. The index is used to\n",
    "identify the position of the data, but it is not an actual column of the DataFrame.\n",
    "It looks like  the `read_csv` function in Pandas  read our file properly. However,\n",
    "we haven't saved any data to memory so we can work with it. We need to assign the\n",
    "DataFrame to a variable. Remember that a variable is a name for a value, such as `x`,\n",
    "or  `data`. We can create a new  object with a variable name by assigning a value to it using `=`.\n",
    "\n",
    "Let's call the imported survey data `surveys_df`:"
   ]
  },
  {
   "cell_type": "code",
   "execution_count": 4,
   "id": "9c692fd0-32cf-4dad-be80-64458c563ab1",
   "metadata": {},
   "outputs": [],
   "source": [
    "surveys_df = pd.read_csv(datafile)"
   ]
  },
  {
   "cell_type": "markdown",
   "id": "dcefc541-b4ac-4ebc-93ed-8348180f7779",
   "metadata": {},
   "source": [
    "Notice when you assign the imported DataFrame to a variable, Python does not\n",
    "produce any output on the screen. We can view the value of the `surveys_df`\n",
    "object by typing its name into the Python command prompt."
   ]
  },
  {
   "cell_type": "code",
   "execution_count": 5,
   "id": "5429befb-4dba-4251-9071-a259e96738e4",
   "metadata": {},
   "outputs": [
    {
     "data": {
      "text/html": [
       "<div>\n",
       "<style scoped>\n",
       "    .dataframe tbody tr th:only-of-type {\n",
       "        vertical-align: middle;\n",
       "    }\n",
       "\n",
       "    .dataframe tbody tr th {\n",
       "        vertical-align: top;\n",
       "    }\n",
       "\n",
       "    .dataframe thead th {\n",
       "        text-align: right;\n",
       "    }\n",
       "</style>\n",
       "<table border=\"1\" class=\"dataframe\">\n",
       "  <thead>\n",
       "    <tr style=\"text-align: right;\">\n",
       "      <th></th>\n",
       "      <th>record_id</th>\n",
       "      <th>month</th>\n",
       "      <th>day</th>\n",
       "      <th>year</th>\n",
       "      <th>plot_id</th>\n",
       "      <th>species_id</th>\n",
       "      <th>sex</th>\n",
       "      <th>hindfoot_length</th>\n",
       "      <th>weight</th>\n",
       "    </tr>\n",
       "  </thead>\n",
       "  <tbody>\n",
       "    <tr>\n",
       "      <th>0</th>\n",
       "      <td>1</td>\n",
       "      <td>7</td>\n",
       "      <td>16</td>\n",
       "      <td>1977</td>\n",
       "      <td>2</td>\n",
       "      <td>NL</td>\n",
       "      <td>M</td>\n",
       "      <td>32.0</td>\n",
       "      <td>NaN</td>\n",
       "    </tr>\n",
       "    <tr>\n",
       "      <th>1</th>\n",
       "      <td>2</td>\n",
       "      <td>7</td>\n",
       "      <td>16</td>\n",
       "      <td>1977</td>\n",
       "      <td>3</td>\n",
       "      <td>NL</td>\n",
       "      <td>M</td>\n",
       "      <td>33.0</td>\n",
       "      <td>NaN</td>\n",
       "    </tr>\n",
       "    <tr>\n",
       "      <th>2</th>\n",
       "      <td>3</td>\n",
       "      <td>7</td>\n",
       "      <td>16</td>\n",
       "      <td>1977</td>\n",
       "      <td>2</td>\n",
       "      <td>DM</td>\n",
       "      <td>F</td>\n",
       "      <td>37.0</td>\n",
       "      <td>NaN</td>\n",
       "    </tr>\n",
       "    <tr>\n",
       "      <th>3</th>\n",
       "      <td>4</td>\n",
       "      <td>7</td>\n",
       "      <td>16</td>\n",
       "      <td>1977</td>\n",
       "      <td>7</td>\n",
       "      <td>DM</td>\n",
       "      <td>M</td>\n",
       "      <td>36.0</td>\n",
       "      <td>NaN</td>\n",
       "    </tr>\n",
       "    <tr>\n",
       "      <th>4</th>\n",
       "      <td>5</td>\n",
       "      <td>7</td>\n",
       "      <td>16</td>\n",
       "      <td>1977</td>\n",
       "      <td>3</td>\n",
       "      <td>DM</td>\n",
       "      <td>M</td>\n",
       "      <td>35.0</td>\n",
       "      <td>NaN</td>\n",
       "    </tr>\n",
       "    <tr>\n",
       "      <th>...</th>\n",
       "      <td>...</td>\n",
       "      <td>...</td>\n",
       "      <td>...</td>\n",
       "      <td>...</td>\n",
       "      <td>...</td>\n",
       "      <td>...</td>\n",
       "      <td>...</td>\n",
       "      <td>...</td>\n",
       "      <td>...</td>\n",
       "    </tr>\n",
       "    <tr>\n",
       "      <th>35544</th>\n",
       "      <td>35545</td>\n",
       "      <td>12</td>\n",
       "      <td>31</td>\n",
       "      <td>2002</td>\n",
       "      <td>15</td>\n",
       "      <td>AH</td>\n",
       "      <td>NaN</td>\n",
       "      <td>NaN</td>\n",
       "      <td>NaN</td>\n",
       "    </tr>\n",
       "    <tr>\n",
       "      <th>35545</th>\n",
       "      <td>35546</td>\n",
       "      <td>12</td>\n",
       "      <td>31</td>\n",
       "      <td>2002</td>\n",
       "      <td>15</td>\n",
       "      <td>AH</td>\n",
       "      <td>NaN</td>\n",
       "      <td>NaN</td>\n",
       "      <td>NaN</td>\n",
       "    </tr>\n",
       "    <tr>\n",
       "      <th>35546</th>\n",
       "      <td>35547</td>\n",
       "      <td>12</td>\n",
       "      <td>31</td>\n",
       "      <td>2002</td>\n",
       "      <td>10</td>\n",
       "      <td>RM</td>\n",
       "      <td>F</td>\n",
       "      <td>15.0</td>\n",
       "      <td>14.0</td>\n",
       "    </tr>\n",
       "    <tr>\n",
       "      <th>35547</th>\n",
       "      <td>35548</td>\n",
       "      <td>12</td>\n",
       "      <td>31</td>\n",
       "      <td>2002</td>\n",
       "      <td>7</td>\n",
       "      <td>DO</td>\n",
       "      <td>M</td>\n",
       "      <td>36.0</td>\n",
       "      <td>51.0</td>\n",
       "    </tr>\n",
       "    <tr>\n",
       "      <th>35548</th>\n",
       "      <td>35549</td>\n",
       "      <td>12</td>\n",
       "      <td>31</td>\n",
       "      <td>2002</td>\n",
       "      <td>5</td>\n",
       "      <td>NaN</td>\n",
       "      <td>NaN</td>\n",
       "      <td>NaN</td>\n",
       "      <td>NaN</td>\n",
       "    </tr>\n",
       "  </tbody>\n",
       "</table>\n",
       "<p>35549 rows × 9 columns</p>\n",
       "</div>"
      ],
      "text/plain": [
       "       record_id  month  day  year  plot_id species_id  sex  hindfoot_length  \\\n",
       "0              1      7   16  1977        2         NL    M             32.0   \n",
       "1              2      7   16  1977        3         NL    M             33.0   \n",
       "2              3      7   16  1977        2         DM    F             37.0   \n",
       "3              4      7   16  1977        7         DM    M             36.0   \n",
       "4              5      7   16  1977        3         DM    M             35.0   \n",
       "...          ...    ...  ...   ...      ...        ...  ...              ...   \n",
       "35544      35545     12   31  2002       15         AH  NaN              NaN   \n",
       "35545      35546     12   31  2002       15         AH  NaN              NaN   \n",
       "35546      35547     12   31  2002       10         RM    F             15.0   \n",
       "35547      35548     12   31  2002        7         DO    M             36.0   \n",
       "35548      35549     12   31  2002        5        NaN  NaN              NaN   \n",
       "\n",
       "       weight  \n",
       "0         NaN  \n",
       "1         NaN  \n",
       "2         NaN  \n",
       "3         NaN  \n",
       "4         NaN  \n",
       "...       ...  \n",
       "35544     NaN  \n",
       "35545     NaN  \n",
       "35546    14.0  \n",
       "35547    51.0  \n",
       "35548     NaN  \n",
       "\n",
       "[35549 rows x 9 columns]"
      ]
     },
     "execution_count": 5,
     "metadata": {},
     "output_type": "execute_result"
    }
   ],
   "source": [
    "surveys_df"
   ]
  },
  {
   "cell_type": "markdown",
   "id": "3c8b9fbf-5b0a-44b2-ae9b-2cbc094f2eeb",
   "metadata": {},
   "source": [
    "Note: if the output is too wide to print on your narrow terminal window, you may see something\n",
    "slightly different as the large set of data scrolls past. You may see simply the last column\n",
    "of data.\n",
    "\n",
    "Never fear, all the data is there, if you scroll up. Selecting just a few rows, so it is\n",
    "easier to fit on one window, you can see that pandas has neatly formatted the data to fit\n",
    "our screen:Never fear, all the data is there, if you scroll up. Selecting just a few rows, so it is\n",
    "easier to fit on one window, you can see that pandas has neatly formatted the data to fit\n",
    "our screen:"
   ]
  },
  {
   "cell_type": "code",
   "execution_count": 19,
   "id": "7fa897f3-1237-434e-a4dd-44c1654578bd",
   "metadata": {},
   "outputs": [
    {
     "data": {
      "text/html": [
       "<div>\n",
       "<style scoped>\n",
       "    .dataframe tbody tr th:only-of-type {\n",
       "        vertical-align: middle;\n",
       "    }\n",
       "\n",
       "    .dataframe tbody tr th {\n",
       "        vertical-align: top;\n",
       "    }\n",
       "\n",
       "    .dataframe thead th {\n",
       "        text-align: right;\n",
       "    }\n",
       "</style>\n",
       "<table border=\"1\" class=\"dataframe\">\n",
       "  <thead>\n",
       "    <tr style=\"text-align: right;\">\n",
       "      <th></th>\n",
       "      <th>record_id</th>\n",
       "      <th>month</th>\n",
       "      <th>day</th>\n",
       "      <th>year</th>\n",
       "      <th>plot_id</th>\n",
       "      <th>species_id</th>\n",
       "      <th>sex</th>\n",
       "      <th>hindfoot_length</th>\n",
       "      <th>weight</th>\n",
       "    </tr>\n",
       "  </thead>\n",
       "  <tbody>\n",
       "    <tr>\n",
       "      <th>0</th>\n",
       "      <td>1</td>\n",
       "      <td>7</td>\n",
       "      <td>16</td>\n",
       "      <td>1977</td>\n",
       "      <td>2</td>\n",
       "      <td>NL</td>\n",
       "      <td>M</td>\n",
       "      <td>32.0</td>\n",
       "      <td>NaN</td>\n",
       "    </tr>\n",
       "    <tr>\n",
       "      <th>1</th>\n",
       "      <td>2</td>\n",
       "      <td>7</td>\n",
       "      <td>16</td>\n",
       "      <td>1977</td>\n",
       "      <td>3</td>\n",
       "      <td>NL</td>\n",
       "      <td>M</td>\n",
       "      <td>33.0</td>\n",
       "      <td>NaN</td>\n",
       "    </tr>\n",
       "    <tr>\n",
       "      <th>2</th>\n",
       "      <td>3</td>\n",
       "      <td>7</td>\n",
       "      <td>16</td>\n",
       "      <td>1977</td>\n",
       "      <td>2</td>\n",
       "      <td>DM</td>\n",
       "      <td>F</td>\n",
       "      <td>37.0</td>\n",
       "      <td>NaN</td>\n",
       "    </tr>\n",
       "    <tr>\n",
       "      <th>3</th>\n",
       "      <td>4</td>\n",
       "      <td>7</td>\n",
       "      <td>16</td>\n",
       "      <td>1977</td>\n",
       "      <td>7</td>\n",
       "      <td>DM</td>\n",
       "      <td>M</td>\n",
       "      <td>36.0</td>\n",
       "      <td>NaN</td>\n",
       "    </tr>\n",
       "    <tr>\n",
       "      <th>4</th>\n",
       "      <td>5</td>\n",
       "      <td>7</td>\n",
       "      <td>16</td>\n",
       "      <td>1977</td>\n",
       "      <td>3</td>\n",
       "      <td>DM</td>\n",
       "      <td>M</td>\n",
       "      <td>35.0</td>\n",
       "      <td>NaN</td>\n",
       "    </tr>\n",
       "  </tbody>\n",
       "</table>\n",
       "</div>"
      ],
      "text/plain": [
       "   record_id  month  day  year  plot_id species_id sex  hindfoot_length  \\\n",
       "0          1      7   16  1977        2         NL   M             32.0   \n",
       "1          2      7   16  1977        3         NL   M             33.0   \n",
       "2          3      7   16  1977        2         DM   F             37.0   \n",
       "3          4      7   16  1977        7         DM   M             36.0   \n",
       "4          5      7   16  1977        3         DM   M             35.0   \n",
       "\n",
       "   weight  \n",
       "0     NaN  \n",
       "1     NaN  \n",
       "2     NaN  \n",
       "3     NaN  \n",
       "4     NaN  "
      ]
     },
     "execution_count": 19,
     "metadata": {},
     "output_type": "execute_result"
    }
   ],
   "source": [
    "surveys_df.head() # The head() method displays the first several lines of a file. It\n",
    "                  # is discussed below."
   ]
  },
  {
   "cell_type": "markdown",
   "id": "e1a68826-2a82-4700-8f3f-b543fb1c3c13",
   "metadata": {},
   "source": [
    "## Exploring our Species Survey Data\n",
    "\n",
    "Again, we can use the `type` function to see what kind of thing `surveys_df` is:"
   ]
  },
  {
   "cell_type": "code",
   "execution_count": 20,
   "id": "86fe32ef-6617-479c-9776-c0efa316e65f",
   "metadata": {},
   "outputs": [
    {
     "data": {
      "text/plain": [
       "pandas.core.frame.DataFrame"
      ]
     },
     "execution_count": 20,
     "metadata": {},
     "output_type": "execute_result"
    }
   ],
   "source": [
    "type(surveys_df)"
   ]
  },
  {
   "cell_type": "markdown",
   "id": "7002ed40-3eca-49f9-8bb9-541e37c332e8",
   "metadata": {},
   "source": [
    "As expected, it's a DataFrame (or, to use the full name that Python uses to refer\n",
    "to it internally, a `pandas.core.frame.DataFrame`).\n",
    "\n",
    "What kind of things does `surveys_df` contain? DataFrames have an attribute\n",
    "called `dtypes` that answers this:"
   ]
  },
  {
   "cell_type": "code",
   "execution_count": 21,
   "id": "c586df32-ef8e-45c3-ad46-21c7f6aab133",
   "metadata": {},
   "outputs": [
    {
     "data": {
      "text/plain": [
       "record_id            int64\n",
       "month                int64\n",
       "day                  int64\n",
       "year                 int64\n",
       "plot_id              int64\n",
       "species_id          object\n",
       "sex                 object\n",
       "hindfoot_length    float64\n",
       "weight             float64\n",
       "dtype: object"
      ]
     },
     "execution_count": 21,
     "metadata": {},
     "output_type": "execute_result"
    }
   ],
   "source": [
    "surveys_df.dtypes"
   ]
  },
  {
   "cell_type": "markdown",
   "id": "38184683-6906-4893-8289-3d756b1fbf08",
   "metadata": {},
   "source": [
    "All the values in a column have the same type. For example, months have type\n",
    "`int64`, which is a kind of integer. Cells in the month column cannot have\n",
    "fractional values, but the weight and hindfoot_length columns can, because they\n",
    "have type `float64`. The `object` type doesn't have a very helpful name, but in\n",
    "this case it represents strings (such as 'M' and 'F' in the case of sex).\n",
    "\n",
    "We'll talk a bit more about what the different formats mean in a different lesson.\n",
    "\n",
    "### Useful Ways to View DataFrame objects in Python\n",
    "\n",
    "There are many ways to summarize and access the data stored in DataFrames,\n",
    "using attributes and methods provided by the DataFrame object.\n",
    "\n",
    "To access an attribute, use the DataFrame object name followed by the attribute\n",
    "name `df_object.attribute`. Using the DataFrame `surveys_df` and attribute\n",
    "`columns`, an index of all the column names in the DataFrame can be accessed\n",
    "with `surveys_df.columns`.\n",
    "\n",
    "Methods are called in a similar fashion using the syntax `df_object.method()`.\n",
    "As an example, `surveys_df.head()` gets the first few rows in the DataFrame\n",
    "`surveys_df` using **the `head()` method**. With a method, we can supply extra\n",
    "information in the parens to control behaviour.\n",
    "\n",
    "Let's look at the data using these.\n",
    "\n",
    "> ## Challenge - DataFrames\n",
    ">\n",
    "> Using our DataFrame `surveys_df`, try out the attributes & methods below to see\n",
    "> what they return.\n",
    ">\n",
    "> 1. `surveys_df.columns`\n",
    "> 2. `surveys_df.shape` Take note of the output of `shape` - what format does it\n",
    ">    return the shape of the DataFrame in?\n",
    ">\n",
    ">    HINT: [More on tuples, here][python-datastructures].\n",
    "> 3. `surveys_df.head()` Also, what does `surveys_df.head(15)` do?\n",
    "> 4. `surveys_df.tail()`"
   ]
  },
  {
   "cell_type": "code",
   "execution_count": null,
   "id": "65d9b5c5-187b-495c-af05-1d29ae10e20a",
   "metadata": {},
   "outputs": [],
   "source": []
  },
  {
   "cell_type": "markdown",
   "id": "e52d475d-1ab0-4d63-b40f-79d4c101d6eb",
   "metadata": {},
   "source": [
    "## Calculating Statistics From Data In A Pandas DataFrame\n",
    "\n",
    "We've read our data into Python. Next, let's perform some quick summary\n",
    "statistics to learn more about the data that we're working with. We might want\n",
    "to know how many animals were collected in each site, or how many of each\n",
    "species were caught. We can perform summary stats quickly using groups. But\n",
    "first we need to figure out what we want to group by.\n",
    "\n",
    "Let's begin by exploring our data:"
   ]
  },
  {
   "cell_type": "code",
   "execution_count": 22,
   "id": "9a898fab-d2cb-42c2-bf7d-231b1c674c1f",
   "metadata": {},
   "outputs": [
    {
     "data": {
      "text/plain": [
       "Index(['record_id', 'month', 'day', 'year', 'plot_id', 'species_id', 'sex',\n",
       "       'hindfoot_length', 'weight'],\n",
       "      dtype='object')"
      ]
     },
     "execution_count": 22,
     "metadata": {},
     "output_type": "execute_result"
    }
   ],
   "source": [
    "# Look at the column names\n",
    "surveys_df.columns"
   ]
  },
  {
   "cell_type": "markdown",
   "id": "f62f48b9-2915-49a4-8b8d-2249f5f61698",
   "metadata": {},
   "source": [
    "Let's get a list of all the species. The `pd.unique` function tells us all of\n",
    "the unique values in the `species_id` column."
   ]
  },
  {
   "cell_type": "code",
   "execution_count": 23,
   "id": "026c7b71-f64a-4dd8-9c52-8b539c15f36c",
   "metadata": {},
   "outputs": [
    {
     "data": {
      "text/plain": [
       "array(['NL', 'DM', 'PF', 'PE', 'DS', 'PP', 'SH', 'OT', 'DO', 'OX', 'SS',\n",
       "       'OL', 'RM', nan, 'SA', 'PM', 'AH', 'DX', 'AB', 'CB', 'CM', 'CQ',\n",
       "       'RF', 'PC', 'PG', 'PH', 'PU', 'CV', 'UR', 'UP', 'ZL', 'UL', 'CS',\n",
       "       'SC', 'BA', 'SF', 'RO', 'AS', 'SO', 'PI', 'ST', 'CU', 'SU', 'RX',\n",
       "       'PB', 'PL', 'PX', 'CT', 'US'], dtype=object)"
      ]
     },
     "execution_count": 23,
     "metadata": {},
     "output_type": "execute_result"
    }
   ],
   "source": [
    "pd.unique(surveys_df['species_id'])"
   ]
  },
  {
   "cell_type": "markdown",
   "id": "5aa04d1b-5743-4f76-b6e9-b72dbbec3db8",
   "metadata": {},
   "source": [
    "> ## Challenge - Statistics\n",
    ">\n",
    "> 1. Create a list of unique site ID's (\"plot_id\") found in the surveys data. Call it\n",
    ">   `site_names`. How many unique sites are there in the data? How many unique\n",
    ">   species are in the data?\n",
    ">\n",
    "> 2. What is the difference between `len(site_names)` and `surveys_df['plot_id'].nunique()`?"
   ]
  },
  {
   "cell_type": "markdown",
   "id": "77564088-9128-4d94-ace5-110e1518f86b",
   "metadata": {},
   "source": [
    "# Groups in Pandas\n",
    "\n",
    "We often want to calculate summary statistics grouped by subsets or attributes\n",
    "within fields of our data. For example, we might want to calculate the average\n",
    "weight of all individuals per site.\n",
    "\n",
    "We can calculate basic statistics for all records in a single column using the\n",
    "syntax below:"
   ]
  },
  {
   "cell_type": "code",
   "execution_count": 24,
   "id": "9f78f9f4-e387-405f-9dfa-1549eea21769",
   "metadata": {},
   "outputs": [
    {
     "data": {
      "text/plain": [
       "count    32283.000000\n",
       "mean        42.672428\n",
       "std         36.631259\n",
       "min          4.000000\n",
       "25%         20.000000\n",
       "50%         37.000000\n",
       "75%         48.000000\n",
       "max        280.000000\n",
       "Name: weight, dtype: float64"
      ]
     },
     "execution_count": 24,
     "metadata": {},
     "output_type": "execute_result"
    }
   ],
   "source": [
    "surveys_df['weight'].describe()"
   ]
  },
  {
   "cell_type": "markdown",
   "id": "3f9cccd0-5861-42c8-ac47-94d241760afe",
   "metadata": {},
   "source": [
    "We can also extract one specific metric if we wish:\n",
    "\n",
    "```\n",
    "surveys_df['weight'].min()\n",
    "surveys_df['weight'].max()\n",
    "surveys_df['weight'].mean()\n",
    "surveys_df['weight'].std()\n",
    "surveys_df['weight'].count()\n",
    "```"
   ]
  },
  {
   "cell_type": "markdown",
   "id": "2546bf29-ae70-4897-ba4f-3892122b2d3b",
   "metadata": {},
   "source": [
    "But if we want to summarize by one or more variables, for example sex, we can\n",
    "use **Pandas' `.groupby` method**. Once we've created a groupby DataFrame, we\n",
    "can quickly calculate summary statistics by a group of our choice."
   ]
  },
  {
   "cell_type": "code",
   "execution_count": 25,
   "id": "00fc49b2-c1a3-4db5-ba2c-0f6b2627c927",
   "metadata": {},
   "outputs": [],
   "source": [
    "# Group data by sex\n",
    "grouped_data = surveys_df.groupby('sex')"
   ]
  },
  {
   "cell_type": "markdown",
   "id": "612c8906-b9a7-491e-8fb4-1a2388277119",
   "metadata": {},
   "source": [
    "The **pandas function `describe`** will return descriptive stats including: mean,\n",
    "median, max, min, std and count for a particular column in the data. Pandas'\n",
    "`describe` function will only return summary values for columns containing\n",
    "numeric data."
   ]
  },
  {
   "cell_type": "code",
   "execution_count": 26,
   "id": "421e6cc7-2f04-4732-93d3-c65eb844ec10",
   "metadata": {},
   "outputs": [
    {
     "data": {
      "text/html": [
       "<div>\n",
       "<style scoped>\n",
       "    .dataframe tbody tr th:only-of-type {\n",
       "        vertical-align: middle;\n",
       "    }\n",
       "\n",
       "    .dataframe tbody tr th {\n",
       "        vertical-align: top;\n",
       "    }\n",
       "\n",
       "    .dataframe thead th {\n",
       "        text-align: right;\n",
       "    }\n",
       "</style>\n",
       "<table border=\"1\" class=\"dataframe\">\n",
       "  <thead>\n",
       "    <tr style=\"text-align: right;\">\n",
       "      <th></th>\n",
       "      <th>record_id</th>\n",
       "      <th>month</th>\n",
       "      <th>day</th>\n",
       "      <th>year</th>\n",
       "      <th>plot_id</th>\n",
       "      <th>hindfoot_length</th>\n",
       "      <th>weight</th>\n",
       "    </tr>\n",
       "    <tr>\n",
       "      <th>sex</th>\n",
       "      <th></th>\n",
       "      <th></th>\n",
       "      <th></th>\n",
       "      <th></th>\n",
       "      <th></th>\n",
       "      <th></th>\n",
       "      <th></th>\n",
       "    </tr>\n",
       "  </thead>\n",
       "  <tbody>\n",
       "    <tr>\n",
       "      <th>F</th>\n",
       "      <td>18036.412046</td>\n",
       "      <td>6.583047</td>\n",
       "      <td>16.007138</td>\n",
       "      <td>1990.644997</td>\n",
       "      <td>11.440854</td>\n",
       "      <td>28.836780</td>\n",
       "      <td>42.170555</td>\n",
       "    </tr>\n",
       "    <tr>\n",
       "      <th>M</th>\n",
       "      <td>17754.835601</td>\n",
       "      <td>6.392668</td>\n",
       "      <td>16.184286</td>\n",
       "      <td>1990.480401</td>\n",
       "      <td>11.098282</td>\n",
       "      <td>29.709578</td>\n",
       "      <td>42.995379</td>\n",
       "    </tr>\n",
       "  </tbody>\n",
       "</table>\n",
       "</div>"
      ],
      "text/plain": [
       "        record_id     month        day         year    plot_id  \\\n",
       "sex                                                              \n",
       "F    18036.412046  6.583047  16.007138  1990.644997  11.440854   \n",
       "M    17754.835601  6.392668  16.184286  1990.480401  11.098282   \n",
       "\n",
       "     hindfoot_length     weight  \n",
       "sex                              \n",
       "F          28.836780  42.170555  \n",
       "M          29.709578  42.995379  "
      ]
     },
     "execution_count": 26,
     "metadata": {},
     "output_type": "execute_result"
    }
   ],
   "source": [
    "# Summary statistics for all numeric columns by sex\n",
    "grouped_data.describe()\n",
    "# Provide the mean for each numeric column by sex\n",
    "grouped_data.mean()"
   ]
  },
  {
   "cell_type": "markdown",
   "id": "f32f9aeb-3a0e-45cf-a58d-e1e855a4f142",
   "metadata": {},
   "source": [
    "The `groupby` command is powerful in that it allows us to quickly generate\n",
    "summary stats.\n",
    "\n",
    "> ## Challenge - Summary Data\n",
    ">\n",
    "> 1. How many recorded individuals are female `F` and how many male `M`?\n",
    "> 2. What happens when you group by two columns using the following syntax and\n",
    ">    then calculate mean values?\n",
    ">   - `grouped_data2 = surveys_df.groupby(['plot_id', 'sex'])`\n",
    ">   - `grouped_data2.mean()`\n",
    "> 3. Summarize weight values for each site in your data. HINT: you can use the\n",
    ">   following syntax to only create summary statistics for one column in your data.\n",
    ">   `by_site['weight'].describe()`\n",
    ">\n",
    ">\n",
    ">> ## Did you get #3 right?\n",
    ">> **A Snippet of the Output from challenge 3 looks like:**\n",
    ">>\n",
    ">> ```\n",
    ">>  site\n",
    ">>  1     count    1903.000000\n",
    ">>        mean       51.822911\n",
    ">>        std        38.176670\n",
    ">>        min         4.000000\n",
    ">>        25%        30.000000\n",
    ">>        50%        44.000000\n",
    ">>        75%        53.000000\n",
    ">>        max       231.000000\n",
    ">>          ...\n",
    ">> ```"
   ]
  },
  {
   "cell_type": "markdown",
   "id": "00512ec3-e3be-4fd9-a3b0-f99633a0737e",
   "metadata": {},
   "source": [
    "## Quickly Creating Summary Counts in Pandas\n",
    "\n",
    "Let's next count the number of samples for each species. We can do this in a few\n",
    "ways, but we'll use `groupby` combined with **a `count()` method**."
   ]
  },
  {
   "cell_type": "code",
   "execution_count": 27,
   "id": "56735fff-81c5-47bc-abe3-f57a206a2b8e",
   "metadata": {},
   "outputs": [
    {
     "name": "stdout",
     "output_type": "stream",
     "text": [
      "species_id\n",
      "AB      303\n",
      "AH      437\n",
      "AS        2\n",
      "BA       46\n",
      "CB       50\n",
      "CM       13\n",
      "CQ       16\n",
      "CS        1\n",
      "CT        1\n",
      "CU        1\n",
      "CV        1\n",
      "DM    10596\n",
      "DO     3027\n",
      "DS     2504\n",
      "DX       40\n",
      "NL     1252\n",
      "OL     1006\n",
      "OT     2249\n",
      "OX       12\n",
      "PB     2891\n",
      "PC       39\n",
      "PE     1299\n",
      "PF     1597\n",
      "PG        8\n",
      "PH       32\n",
      "PI        9\n",
      "PL       36\n",
      "PM      899\n",
      "PP     3123\n",
      "PU        5\n",
      "PX        6\n",
      "RF       75\n",
      "RM     2609\n",
      "RO        8\n",
      "RX        2\n",
      "SA       75\n",
      "SC        1\n",
      "SF       43\n",
      "SH      147\n",
      "SO       43\n",
      "SS      248\n",
      "ST        1\n",
      "SU        5\n",
      "UL        4\n",
      "UP        8\n",
      "UR       10\n",
      "US        4\n",
      "ZL        2\n",
      "Name: record_id, dtype: int64\n"
     ]
    }
   ],
   "source": [
    "# Count the number of samples by species\n",
    "species_counts = surveys_df.groupby('species_id')['record_id'].count()\n",
    "print(species_counts)"
   ]
  },
  {
   "cell_type": "markdown",
   "id": "91527637-b894-4ab7-89d3-3baaf6c7c564",
   "metadata": {},
   "source": [
    "Or, we can also count just the rows that have the species \"DO\":"
   ]
  },
  {
   "cell_type": "code",
   "execution_count": 28,
   "id": "014171dd-62da-4bcb-95e0-98b4818085a8",
   "metadata": {},
   "outputs": [
    {
     "data": {
      "text/plain": [
       "3027"
      ]
     },
     "execution_count": 28,
     "metadata": {},
     "output_type": "execute_result"
    }
   ],
   "source": [
    "surveys_df.groupby('species_id')['record_id'].count()['DO']"
   ]
  },
  {
   "cell_type": "markdown",
   "id": "d402cd18-b262-4f1c-9cf9-d95fd68de038",
   "metadata": {},
   "source": [
    "> ## Challenge - Make a list\n",
    ">\n",
    ">  What's another way to create a list of species and associated `count` of the\n",
    ">  records in the data? Hint: you can perform `count`, `min`, etc. functions on\n",
    ">  groupby DataFrames in the same way you can perform them on regular DataFrames."
   ]
  },
  {
   "cell_type": "code",
   "execution_count": null,
   "id": "e7e8ae98-dd6c-4e70-b6ed-866d67160f8d",
   "metadata": {},
   "outputs": [],
   "source": []
  },
  {
   "cell_type": "markdown",
   "id": "2e4f40b1-6568-4db2-acfe-affbf491cfc1",
   "metadata": {},
   "source": [
    "## Basic Math Functions\n",
    "\n",
    "If we wanted to, we could perform math on an entire column of our data. For\n",
    "example let's multiply all weight values by 2. A more practical use of this might\n",
    "be to normalize the data according to a mean, area, or some other value\n",
    "calculated from our data."
   ]
  },
  {
   "cell_type": "code",
   "execution_count": 29,
   "id": "a5acc742-0c2b-42d9-b91b-189e01f7f5bf",
   "metadata": {},
   "outputs": [
    {
     "data": {
      "text/plain": [
       "0          NaN\n",
       "1          NaN\n",
       "2          NaN\n",
       "3          NaN\n",
       "4          NaN\n",
       "         ...  \n",
       "35544      NaN\n",
       "35545      NaN\n",
       "35546     28.0\n",
       "35547    102.0\n",
       "35548      NaN\n",
       "Name: weight, Length: 35549, dtype: float64"
      ]
     },
     "execution_count": 29,
     "metadata": {},
     "output_type": "execute_result"
    }
   ],
   "source": [
    "# Multiply all weight values by 2\n",
    "surveys_df['weight']*2"
   ]
  },
  {
   "cell_type": "markdown",
   "id": "d5e6fb78-a9b1-45b1-8205-08b93ab3c9fd",
   "metadata": {},
   "source": [
    "# Quick & Easy Plotting Data Using Pandas\n",
    "\n",
    "We can plot our summary stats using Pandas, too."
   ]
  },
  {
   "cell_type": "code",
   "execution_count": 30,
   "id": "da1e26aa-ce14-42a5-854b-945c98b7c000",
   "metadata": {},
   "outputs": [
    {
     "data": {
      "image/png": "[encoded data removed]",
      "text/plain": [
       "<Figure size 432x288 with 1 Axes>"
      ]
     },
     "metadata": {
      "needs_background": "light"
     },
     "output_type": "display_data"
    }
   ],
   "source": [
    "# Make sure figures appear inline in Ipython Notebook\n",
    "%matplotlib inline\n",
    "# Create a quick bar chart\n",
    "species_counts.plot(kind='bar');"
   ]
  },
  {
   "cell_type": "markdown",
   "id": "0e4c591a-ca11-4535-aadf-d74e50d5fe1b",
   "metadata": {},
   "source": [
    "Count per species site\n",
    "\n",
    "We can also look at how many animals were captured in each site:"
   ]
  },
  {
   "cell_type": "code",
   "execution_count": 31,
   "id": "f6ec232f-9ec7-4ca0-b01f-9fc7c3947489",
   "metadata": {},
   "outputs": [
    {
     "data": {
      "text/plain": [
       "<AxesSubplot:xlabel='plot_id'>"
      ]
     },
     "execution_count": 31,
     "metadata": {},
     "output_type": "execute_result"
    },
    {
     "data": {
      "image/png": "[encoded data removed]",
      "text/plain": [
       "<Figure size 432x288 with 1 Axes>"
      ]
     },
     "metadata": {
      "needs_background": "light"
     },
     "output_type": "display_data"
    }
   ],
   "source": [
    "total_count = surveys_df.groupby('plot_id')['record_id'].nunique()\n",
    "# Let's plot that too\n",
    "total_count.plot(kind='bar')"
   ]
  },
  {
   "cell_type": "markdown",
   "id": "f2aa1252-3611-4c2a-aafa-12c0c892e43a",
   "metadata": {},
   "source": [
    "> ## Challenge - Plots\n",
    ">\n",
    "> 1. Create a plot of average weight across all species per site.\n",
    "> 2. Create a plot of total males versus total females for the entire dataset."
   ]
  },
  {
   "cell_type": "code",
   "execution_count": null,
   "id": "778470a0-3584-4b48-87c3-1d5f631bbe57",
   "metadata": {},
   "outputs": [],
   "source": []
  },
  {
   "cell_type": "markdown",
   "id": "5a2945e0-d51f-487d-81a6-44395601df1c",
   "metadata": {},
   "source": [
    "> ## Summary Plotting Challenge\n",
    ">\n",
    "> Create a stacked bar plot, with weight on the Y axis, and the stacked variable\n",
    "> being sex. The plot should show total weight by sex for each site. Some\n",
    "> tips are below to help you solve this challenge:\n",
    ">\n",
    "> * For more information on pandas plots, see [pandas' documentation page on visualization][pandas-plot].\n",
    "> * You can use the code that follows to create a stacked bar plot but the data to stack\n",
    ">  need to be in individual columns.  Here's a simple example with some data where\n",
    ">  'a', 'b', and 'c' are the groups, and 'one' and 'two' are the subgroups.\n",
    ">\n",
    "> ```\n",
    "> d = {'one' : pd.Series([1., 2., 3.], index=['a', 'b', 'c']), 'two' : pd.Series([1., 2., 3., 4.], index=['a', 'b', 'c', 'd'])}\n",
    "> pd.DataFrame(d)\n",
    "> ```\n",
    ">\n",
    "> shows the following data\n",
    ">\n",
    "> ```\n",
    ">       one  two\n",
    ">   a    1    1\n",
    ">   b    2    2\n",
    ">   c    3    3\n",
    ">   d  NaN    4\n",
    "> ```\n",
    ">\n",
    "> We can plot the above with\n",
    ">\n",
    "> ```\n",
    "> # Plot stacked data so columns 'one' and 'two' are stacked\n",
    "> my_df = pd.DataFrame(d)\n",
    "> my_df.plot(kind='bar', stacked=True, title=\"The title of my graph\")\n",
    "> ```\n",
    ">\n",
    "> * You can use the `.unstack()` method to transform grouped data into columns\n",
    "> for each plotting.  Try running `.unstack()` on some DataFrames above and see\n",
    "> what it yields.\n",
    ">\n",
    "> Start by transforming the grouped data (by site and sex) into an unstacked layout, then create a stacked plot.\n",
    ">"
   ]
  },
  {
   "cell_type": "code",
   "execution_count": null,
   "id": "e1c9d455-6187-40ac-9953-b4ec0ac4b95d",
   "metadata": {},
   "outputs": [],
   "source": []
  },
  {
   "cell_type": "markdown",
   "id": "fb555c44-643c-4287-b80a-608ee0344b55",
   "metadata": {},
   "source": [
    ">> ## Solution to Summary Challenge\n",
    ">>\n",
    ">> First we group data by site and by sex, and then calculate a total for each site.\n",
    ">>\n",
    ">> ```\n",
    ">> by_site_sex = surveys_df.groupby(['plot_id', 'sex'])\n",
    ">> site_sex_count = by_site_sex['weight'].sum()\n",
    ">> ```\n",
    ">>\n",
    ">> This calculates the sums of weights for each sex within each site as a table\n",
    ">>\n",
    ">> ```\n",
    ">> site  sex\n",
    ">> plot_id  sex\n",
    ">> 1        F      38253\n",
    ">>          M      59979\n",
    ">> 2        F      50144\n",
    ">>          M      57250\n",
    ">> 3        F      27251\n",
    ">>          M      28253\n",
    ">> 4        F      39796\n",
    ">>          M      49377\n",
    ">> <other sites removed for brevity>\n",
    ">> ```\n",
    ">>\n",
    ">> Below we'll use `.unstack()` on our grouped data to figure out the total weight that each sex contributed to each site.\n",
    ">>\n",
    ">> ```\n",
    ">> by_site_sex = surveys_df.groupby(['plot_id', 'sex'])\n",
    ">> site_sex_count = by_site_sex['weight'].sum()\n",
    ">> site_sex_count.unstack()\n",
    ">> ```\n",
    ">>\n",
    ">> The `unstack` method above will display the following output:\n",
    ">>\n",
    ">> ```\n",
    ">> sex          F      M\n",
    ">> plot_id\n",
    ">> 1        38253  59979\n",
    ">> 2        50144  57250\n",
    ">> 3        27251  28253\n",
    ">> 4        39796  49377\n",
    ">> <other sites removed for brevity>\n",
    ">> ```\n",
    ">>\n",
    ">> Now, create a stacked bar plot with that data where the weights for each sex are stacked by site.\n",
    ">>\n",
    ">> Rather than display it as a table, we can plot the above data by stacking the values of each sex as follows:\n",
    ">>\n",
    ">> ```\n",
    ">> by_site_sex = surveys_df.groupby(['plot_id', 'sex'])\n",
    ">> site_sex_count = by_site_sex['weight'].sum()\n",
    ">> spc = site_sex_count.unstack()\n",
    ">> s_plot = spc.plot(kind='bar', stacked=True, title=\"Total weight by site and sex\")\n",
    ">> s_plot.set_ylabel(\"Weight\")\n",
    ">> s_plot.set_xlabel(\"Plot\")\n",
    ">> ```"
   ]
  },
  {
   "cell_type": "code",
   "execution_count": null,
   "id": "fa3cc636-053b-4b92-9ed3-be349d4d1285",
   "metadata": {},
   "outputs": [],
   "source": []
  },
  {
   "cell_type": "markdown",
   "id": "9a864b9b-918d-4d08-98b6-7a140ce679ca",
   "metadata": {},
   "source": [
    "## References\n",
    "\n",
    "- ernst: http://www.esapubs.org/archive/ecol/E090/118/default.htm\n",
    "- figshare-ndownloader: https://ndownloader.figshare.com/files/2292172\n",
    "- os-lib: https://docs.python.org/3/library/os.html\n",
    "- matplotlib: https://matplotlib.org\n",
    "- numpy: https://www.numpy.org/\n",
    "- pandas: https://pandas.pydata.org\n",
    "- pandas-plot: http://pandas.pydata.org/pandas-docs/stable/user_guide/visualization.html#basic-plotting-plot\n",
    "- pd-dataframe: https://pandas.pydata.org/docs/reference/api/pandas.DataFrame.html\n",
    "- pptd: https://figshare.com/articles/Portal_Project_Teaching_Database/1314459\n",
    "- python-datastructures: https://docs.python.org/3/tutorial/datastructures.html#tuples-and-sequences\n",
    "- spreadsheet-lesson5: http://www.datacarpentry.org/spreadsheet-ecology-lesson/05-exporting-data"
   ]
  },
  {
   "cell_type": "code",
   "execution_count": null,
   "id": "9e4c4a30-de40-4ffd-befd-9b8dda7da968",
   "metadata": {},
   "outputs": [],
   "source": []
  },
  {
   "cell_type": "markdown",
   "id": "7c6d9e59-e673-4ae3-9ca9-0a1f5b6b7509",
   "metadata": {},
   "source": []
  }
 ],
 "metadata": {
  "kernelspec": {
   "display_name": "Python 3 + Jaspy",
   "language": "python",
   "name": "jaspy"
  },
  "language_info": {
   "codemirror_mode": {
    "name": "ipython",
    "version": 3
   },
   "file_extension": ".py",
   "mimetype": "text/x-python",
   "name": "python",
   "nbconvert_exporter": "python",
   "pygments_lexer": "ipython3",
   "version": "3.10.5"
  }
 },
 "nbformat": 4,
 "nbformat_minor": 5
}
